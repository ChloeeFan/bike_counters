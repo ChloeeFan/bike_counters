{
 "cells": [
  {
   "cell_type": "code",
   "execution_count": 1,
   "id": "57fcf0ba-0ad5-4d65-a3f2-894627d498f7",
   "metadata": {},
   "outputs": [],
   "source": [
    "import pandas as pd\n",
    "import numpy as np\n",
    "from sklearn.model_selection import train_test_split\n",
    "import matplotlib.pyplot as plt\n",
    "import seaborn as sns\n",
    "from pathlib import Path\n",
    "import os\n",
    "from sklearn.model_selection import TimeSeriesSplit\n",
    "from sklearn.compose import ColumnTransformer\n",
    "from sklearn.linear_model import Ridge\n",
    "from sklearn.pipeline import make_pipeline"
   ]
  },
  {
   "cell_type": "markdown",
   "id": "77e96ad6-b90c-4fe6-96e3-4ee143bf72b7",
   "metadata": {},
   "source": [
    "### Import data"
   ]
  },
  {
   "cell_type": "code",
   "execution_count": 118,
   "id": "d5caf6bd-2600-40bd-b454-8837323bdec0",
   "metadata": {},
   "outputs": [
    {
     "data": {
      "text/html": [
       "<div>\n",
       "<style scoped>\n",
       "    .dataframe tbody tr th:only-of-type {\n",
       "        vertical-align: middle;\n",
       "    }\n",
       "\n",
       "    .dataframe tbody tr th {\n",
       "        vertical-align: top;\n",
       "    }\n",
       "\n",
       "    .dataframe thead th {\n",
       "        text-align: right;\n",
       "    }\n",
       "</style>\n",
       "<table border=\"1\" class=\"dataframe\">\n",
       "  <thead>\n",
       "    <tr style=\"text-align: right;\">\n",
       "      <th></th>\n",
       "      <th>counter_id</th>\n",
       "      <th>counter_name</th>\n",
       "      <th>site_id</th>\n",
       "      <th>site_name</th>\n",
       "      <th>bike_count</th>\n",
       "      <th>date</th>\n",
       "      <th>counter_installation_date</th>\n",
       "      <th>coordinates</th>\n",
       "      <th>counter_technical_id</th>\n",
       "      <th>latitude</th>\n",
       "      <th>longitude</th>\n",
       "      <th>log_bike_count</th>\n",
       "    </tr>\n",
       "  </thead>\n",
       "  <tbody>\n",
       "    <tr>\n",
       "      <th>48321</th>\n",
       "      <td>100007049-102007049</td>\n",
       "      <td>28 boulevard Diderot E-O</td>\n",
       "      <td>100007049</td>\n",
       "      <td>28 boulevard Diderot</td>\n",
       "      <td>0.0</td>\n",
       "      <td>2020-09-01 02:00:00</td>\n",
       "      <td>2013-01-18</td>\n",
       "      <td>48.846028,2.375429</td>\n",
       "      <td>Y2H15027244</td>\n",
       "      <td>48.846028</td>\n",
       "      <td>2.375429</td>\n",
       "      <td>0.000000</td>\n",
       "    </tr>\n",
       "    <tr>\n",
       "      <th>48324</th>\n",
       "      <td>100007049-102007049</td>\n",
       "      <td>28 boulevard Diderot E-O</td>\n",
       "      <td>100007049</td>\n",
       "      <td>28 boulevard Diderot</td>\n",
       "      <td>1.0</td>\n",
       "      <td>2020-09-01 03:00:00</td>\n",
       "      <td>2013-01-18</td>\n",
       "      <td>48.846028,2.375429</td>\n",
       "      <td>Y2H15027244</td>\n",
       "      <td>48.846028</td>\n",
       "      <td>2.375429</td>\n",
       "      <td>0.693147</td>\n",
       "    </tr>\n",
       "    <tr>\n",
       "      <th>48327</th>\n",
       "      <td>100007049-102007049</td>\n",
       "      <td>28 boulevard Diderot E-O</td>\n",
       "      <td>100007049</td>\n",
       "      <td>28 boulevard Diderot</td>\n",
       "      <td>0.0</td>\n",
       "      <td>2020-09-01 04:00:00</td>\n",
       "      <td>2013-01-18</td>\n",
       "      <td>48.846028,2.375429</td>\n",
       "      <td>Y2H15027244</td>\n",
       "      <td>48.846028</td>\n",
       "      <td>2.375429</td>\n",
       "      <td>0.000000</td>\n",
       "    </tr>\n",
       "    <tr>\n",
       "      <th>48330</th>\n",
       "      <td>100007049-102007049</td>\n",
       "      <td>28 boulevard Diderot E-O</td>\n",
       "      <td>100007049</td>\n",
       "      <td>28 boulevard Diderot</td>\n",
       "      <td>4.0</td>\n",
       "      <td>2020-09-01 15:00:00</td>\n",
       "      <td>2013-01-18</td>\n",
       "      <td>48.846028,2.375429</td>\n",
       "      <td>Y2H15027244</td>\n",
       "      <td>48.846028</td>\n",
       "      <td>2.375429</td>\n",
       "      <td>1.609438</td>\n",
       "    </tr>\n",
       "    <tr>\n",
       "      <th>48333</th>\n",
       "      <td>100007049-102007049</td>\n",
       "      <td>28 boulevard Diderot E-O</td>\n",
       "      <td>100007049</td>\n",
       "      <td>28 boulevard Diderot</td>\n",
       "      <td>9.0</td>\n",
       "      <td>2020-09-01 18:00:00</td>\n",
       "      <td>2013-01-18</td>\n",
       "      <td>48.846028,2.375429</td>\n",
       "      <td>Y2H15027244</td>\n",
       "      <td>48.846028</td>\n",
       "      <td>2.375429</td>\n",
       "      <td>2.302585</td>\n",
       "    </tr>\n",
       "  </tbody>\n",
       "</table>\n",
       "</div>"
      ],
      "text/plain": [
       "                counter_id              counter_name    site_id  \\\n",
       "48321  100007049-102007049  28 boulevard Diderot E-O  100007049   \n",
       "48324  100007049-102007049  28 boulevard Diderot E-O  100007049   \n",
       "48327  100007049-102007049  28 boulevard Diderot E-O  100007049   \n",
       "48330  100007049-102007049  28 boulevard Diderot E-O  100007049   \n",
       "48333  100007049-102007049  28 boulevard Diderot E-O  100007049   \n",
       "\n",
       "                  site_name  bike_count                date  \\\n",
       "48321  28 boulevard Diderot         0.0 2020-09-01 02:00:00   \n",
       "48324  28 boulevard Diderot         1.0 2020-09-01 03:00:00   \n",
       "48327  28 boulevard Diderot         0.0 2020-09-01 04:00:00   \n",
       "48330  28 boulevard Diderot         4.0 2020-09-01 15:00:00   \n",
       "48333  28 boulevard Diderot         9.0 2020-09-01 18:00:00   \n",
       "\n",
       "      counter_installation_date         coordinates counter_technical_id  \\\n",
       "48321                2013-01-18  48.846028,2.375429          Y2H15027244   \n",
       "48324                2013-01-18  48.846028,2.375429          Y2H15027244   \n",
       "48327                2013-01-18  48.846028,2.375429          Y2H15027244   \n",
       "48330                2013-01-18  48.846028,2.375429          Y2H15027244   \n",
       "48333                2013-01-18  48.846028,2.375429          Y2H15027244   \n",
       "\n",
       "        latitude  longitude  log_bike_count  \n",
       "48321  48.846028   2.375429        0.000000  \n",
       "48324  48.846028   2.375429        0.693147  \n",
       "48327  48.846028   2.375429        0.000000  \n",
       "48330  48.846028   2.375429        1.609438  \n",
       "48333  48.846028   2.375429        2.302585  "
      ]
     },
     "execution_count": 118,
     "metadata": {},
     "output_type": "execute_result"
    }
   ],
   "source": [
    "data = pd.read_parquet(\"~/Desktop/python X/Project/train.parquet\")\n",
    "data.head()"
   ]
  },
  {
   "cell_type": "markdown",
   "id": "f83a269a-f43c-4b65-820f-63c376adecff",
   "metadata": {},
   "source": [
    "### Data Exploration"
   ]
  },
  {
   "cell_type": "markdown",
   "id": "42568f07-2008-457c-bc40-663ecb965aac",
   "metadata": {},
   "source": [
    "#### Summary of data"
   ]
  },
  {
   "cell_type": "markdown",
   "id": "a1bd3ce6-c503-4f72-8a5b-1173b8d567ee",
   "metadata": {},
   "source": [
    "### Data Preprocessing"
   ]
  },
  {
   "cell_type": "code",
   "execution_count": 123,
   "id": "8759e2a1-b1b0-4712-a5f3-78f1bf4ad813",
   "metadata": {},
   "outputs": [],
   "source": [
    "import os\n",
    "\n",
    "import numpy as np\n",
    "import pandas as pd\n",
    "from sklearn.model_selection import TimeSeriesSplit\n",
    "\n",
    "problem_title = \"Bike count prediction\"\n",
    "_target_column_name = \"log_bike_count\"\n",
    "# A type (class) which will be used to create wrapper objects for y_pred\n",
    "\n",
    "\n",
    "def get_cv(X, y, random_state=0):\n",
    "    cv = TimeSeriesSplit(n_splits=8)\n",
    "    rng = np.random.RandomState(random_state)\n",
    "\n",
    "    for train_idx, test_idx in cv.split(X):\n",
    "        # Take a random sampling on test_idx so it's that samples are not consecutives.\n",
    "        yield train_idx, rng.choice(test_idx, size=len(test_idx) // 3, replace=False)\n",
    "\n",
    "\n",
    "def get_train_data(path=\"~/Desktop/python X/Project/train.parquet\"):\n",
    "    data = pd.read_parquet(path)\n",
    "    # Sort by date first, so that time based cross-validation would produce correct results\n",
    "    data = data.sort_values([\"date\", \"counter_name\"])\n",
    "    y_array = data[_target_column_name].values\n",
    "    X_df = data.drop([_target_column_name, \"bike_count\"], axis=1)\n",
    "    return X_df, y_array"
   ]
  },
  {
   "cell_type": "code",
   "execution_count": 125,
   "id": "ed84908f-7752-4b41-97a2-bcef9fd2bf44",
   "metadata": {},
   "outputs": [],
   "source": [
    "X,y = get_train_data()"
   ]
  },
  {
   "cell_type": "code",
   "execution_count": 126,
   "id": "1c1ecb4a-5f8d-4590-9726-4bd1b31337bd",
   "metadata": {},
   "outputs": [],
   "source": [
    "def train_test_split_temporal(X, y, delta_threshold=\"30 days\"):\n",
    "    \n",
    "    cutoff_date = X[\"date\"].max() - pd.Timedelta(delta_threshold)\n",
    "    mask = (X[\"date\"] <= cutoff_date)\n",
    "    X_train, X_valid = X.loc[mask], X.loc[~mask]\n",
    "    y_train, y_valid = y[mask], y[~mask]\n",
    "\n",
    "    return X_train, y_train, X_valid, y_valid"
   ]
  },
  {
   "cell_type": "code",
   "execution_count": 129,
   "id": "45847463-7ba3-4537-bf06-4e4122719f5f",
   "metadata": {
    "scrolled": true
   },
   "outputs": [
    {
     "name": "stdout",
     "output_type": "stream",
     "text": [
      "Train: n_samples=456507,  2020-09-01 01:00:00 to 2021-08-10 23:00:00\n",
      "Valid: n_samples=40320,  2021-08-11 00:00:00 to 2021-09-09 23:00:00\n"
     ]
    }
   ],
   "source": [
    "X_train, y_train, X_valid, y_valid = train_test_split_temporal(X, y)\n",
    "\n",
    "print(\n",
    "    f'Train: n_samples={X_train.shape[0]},  {X_train[\"date\"].min()} to {X_train[\"date\"].max()}'\n",
    ")\n",
    "print(\n",
    "    f'Valid: n_samples={X_valid.shape[0]},  {X_valid[\"date\"].min()} to {X_valid[\"date\"].max()}'\n",
    ")"
   ]
  },
  {
   "cell_type": "markdown",
   "id": "8645a3a8-b75e-4bee-9083-fc8dd538050a",
   "metadata": {},
   "source": [
    "### Gradient Boosting"
   ]
  },
  {
   "cell_type": "code",
   "execution_count": 132,
   "id": "029433a1-d581-4da4-a36b-b1d5e312ea6d",
   "metadata": {},
   "outputs": [],
   "source": [
    "from sklearn.ensemble import HistGradientBoostingRegressor\n",
    "from sklearn.preprocessing import OneHotEncoder\n",
    "from sklearn.compose import ColumnTransformer\n",
    "from sklearn.pipeline import Pipeline\n",
    "from sklearn.preprocessing import FunctionTransformer\n",
    "from sklearn.metrics import root_mean_squared_error\n",
    "\n",
    "target_column = \"log_bike_count\"\n",
    "\n",
    "# Define features and target\n",
    "X_train = X_train.drop(columns=[\"site_id\",\"counter_id\", \"counter_technical_id\", \"counter_installation_date\", \"coordinates\"])\n",
    "X_valid = X_valid.drop(columns=[\"site_id\",\"counter_id\", \"counter_technical_id\", \"counter_installation_date\", \"coordinates\"])\n"
   ]
  },
  {
   "cell_type": "code",
   "execution_count": 35,
   "id": "58562008-4536-4f24-ae66-be2a5220c8c2",
   "metadata": {},
   "outputs": [
    {
     "name": "stdout",
     "output_type": "stream",
     "text": [
      "Gradient Boosting:Train set, RMSE=0.59040\n",
      "Gradient Boosting:Valid set, RMSE=0.55250\n"
     ]
    }
   ],
   "source": [
    "# Preprocessing for the date column\n",
    "def encode_dates(X):\n",
    "    X = X.copy()\n",
    "    X[\"year\"] = X[\"date\"].dt.year\n",
    "    X[\"month\"] = X[\"date\"].dt.month\n",
    "    X[\"day\"] = X[\"date\"].dt.day\n",
    "    X[\"hour\"] = X[\"date\"].dt.hour\n",
    "    X[\"weekday\"] = X[\"date\"].dt.weekday\n",
    "    X[\"hour_weekday\"] = X[\"hour\"] + X[\"weekday\"] * 24  # Interaction term\n",
    "    return X.drop(columns=[\"date\"])\n",
    "\n",
    "# Specify columns for preprocessing\n",
    "date_columns = [\"date\"]\n",
    "categorical_columns = [\"counter_name\", \"site_name\"]\n",
    "numeric_columns = [\"latitude\", \"longitude\"]\n",
    "\n",
    "# Define preprocessors\n",
    "date_encoder = FunctionTransformer(encode_dates)\n",
    "categorical_encoder = OneHotEncoder(handle_unknown=\"ignore\", sparse_output=False)\n",
    "\n",
    "preprocessor = ColumnTransformer(\n",
    "    transformers=[\n",
    "        (\"date\", date_encoder, date_columns),\n",
    "        (\"cat\", categorical_encoder, categorical_columns),\n",
    "    ],\n",
    "    remainder=\"passthrough\"  # Pass through other numeric columns\n",
    ")\n",
    "\n",
    "# Create a pipeline with the preprocessor and HistGradientBoostingRegressor\n",
    "model = Pipeline(steps=[\n",
    "    (\"preprocessor\", preprocessor),\n",
    "    (\"regressor\", HistGradientBoostingRegressor(\n",
    "        max_iter=100,  # Number of boosting iterations\n",
    "        learning_rate=0.1,  # Learning rate\n",
    "        max_depth=5,  # Maximum depth of each tree\n",
    "        random_state=42,\n",
    "        early_stopping=True,  # Enable early stopping\n",
    "        validation_fraction=0.2,  # Fraction of data for validation\n",
    "        n_iter_no_change=10  # Stop after 10 iterations without improvement\n",
    "    ))\n",
    "])\n",
    "\n",
    "pipe = Pipeline(steps=[\n",
    "    (\"preprocessor\", preprocessor),\n",
    "    (\"regressor\", HistGradientBoostingRegressor(\n",
    "        max_iter=100,\n",
    "        learning_rate=0.1,\n",
    "        max_depth=5,\n",
    "        random_state=42,\n",
    "        early_stopping=True,\n",
    "        validation_fraction=0.2,\n",
    "        n_iter_no_change=10\n",
    "    ))\n",
    "])\n",
    "\n",
    "\n",
    "# Fit the model\n",
    "pipe.fit(X_train, y_train)\n",
    "\n",
    "\n",
    "print(\n",
    "    f\"Gradient Boosting:Train set, RMSE={root_mean_squared_error(y_train, pipe.predict(X_train)):.5f}\"\n",
    ")\n",
    "print(\n",
    "    f\"Gradient Boosting:Valid set, RMSE={root_mean_squared_error(y_valid, pipe.predict(X_valid)):.5f}\"\n",
    ")"
   ]
  },
  {
   "cell_type": "markdown",
   "id": "ba7503c3-1063-4d9e-9aed-55cb5844023b",
   "metadata": {},
   "source": [
    "### XGBoosting"
   ]
  },
  {
   "cell_type": "code",
   "execution_count": 38,
   "id": "f6be879e-b317-4764-a3c9-1e1796b003dc",
   "metadata": {},
   "outputs": [
    {
     "name": "stderr",
     "output_type": "stream",
     "text": [
      "/opt/anaconda3/lib/python3.12/site-packages/sklearn/metrics/_regression.py:483: FutureWarning: 'squared' is deprecated in version 1.4 and will be removed in 1.6. To calculate the root mean squared error, use the function'root_mean_squared_error'.\n",
      "  warnings.warn(\n"
     ]
    },
    {
     "name": "stdout",
     "output_type": "stream",
     "text": [
      "XGBoost:Train set, RMSE=0.59278\n",
      "XGBoost:Valid set, RMSE=0.56665\n"
     ]
    },
    {
     "name": "stderr",
     "output_type": "stream",
     "text": [
      "/opt/anaconda3/lib/python3.12/site-packages/sklearn/metrics/_regression.py:483: FutureWarning: 'squared' is deprecated in version 1.4 and will be removed in 1.6. To calculate the root mean squared error, use the function'root_mean_squared_error'.\n",
      "  warnings.warn(\n"
     ]
    }
   ],
   "source": [
    "from xgboost import XGBRegressor\n",
    "from sklearn.compose import ColumnTransformer\n",
    "from sklearn.preprocessing import FunctionTransformer, OneHotEncoder\n",
    "from sklearn.pipeline import Pipeline\n",
    "from sklearn.metrics import mean_squared_error\n",
    "\n",
    "# Define the pipeline\n",
    "xgb_pipe = Pipeline(steps=[\n",
    "    (\"preprocessor\", preprocessor),  # Use the same preprocessor as before\n",
    "    (\"regressor\", XGBRegressor(\n",
    "        n_estimators=100,\n",
    "        learning_rate=0.1,\n",
    "        max_depth=5,\n",
    "        random_state=42,\n",
    "        n_jobs=-1\n",
    "    ))\n",
    "])\n",
    "\n",
    "# Fit the model\n",
    "xgb_pipe.fit(X_train, y_train)\n",
    "\n",
    "# Evaluate Train and Validation RMSE\n",
    "print(\n",
    "    f\"XGBoost:Train set, RMSE={mean_squared_error(y_train, xgb_pipe.predict(X_train), squared=False):.5f}\"\n",
    ")\n",
    "print(\n",
    "    f\"XGBoost:Valid set, RMSE={mean_squared_error(y_valid, xgb_pipe.predict(X_valid), squared=False):.5f}\"\n",
    ")\n"
   ]
  },
  {
   "cell_type": "markdown",
   "id": "a54ca52c-272c-45e6-8623-babfe9355483",
   "metadata": {},
   "source": [
    "#### Parameter Tuning"
   ]
  },
  {
   "cell_type": "code",
   "execution_count": 40,
   "id": "29b5d3b6-5763-4221-8a6e-086efb99c152",
   "metadata": {},
   "outputs": [
    {
     "name": "stdout",
     "output_type": "stream",
     "text": [
      "Fitting 3 folds for each of 50 candidates, totalling 150 fits\n",
      "Best parameters: {'regressor__subsample': 1.0, 'regressor__n_estimators': 100, 'regressor__min_child_weight': 3, 'regressor__max_depth': 7, 'regressor__learning_rate': 0.2, 'regressor__gamma': 0.3, 'regressor__colsample_bytree': 0.6}\n"
     ]
    },
    {
     "name": "stderr",
     "output_type": "stream",
     "text": [
      "/opt/anaconda3/lib/python3.12/site-packages/sklearn/metrics/_regression.py:483: FutureWarning: 'squared' is deprecated in version 1.4 and will be removed in 1.6. To calculate the root mean squared error, use the function'root_mean_squared_error'.\n",
      "  warnings.warn(\n"
     ]
    },
    {
     "name": "stdout",
     "output_type": "stream",
     "text": [
      "Train set, RMSE=0.44778\n",
      "Valid set, RMSE=0.45905\n"
     ]
    },
    {
     "name": "stderr",
     "output_type": "stream",
     "text": [
      "/opt/anaconda3/lib/python3.12/site-packages/sklearn/metrics/_regression.py:483: FutureWarning: 'squared' is deprecated in version 1.4 and will be removed in 1.6. To calculate the root mean squared error, use the function'root_mean_squared_error'.\n",
      "  warnings.warn(\n"
     ]
    }
   ],
   "source": [
    "from xgboost import XGBRegressor\n",
    "from sklearn.model_selection import RandomizedSearchCV\n",
    "from sklearn.pipeline import Pipeline\n",
    "from sklearn.compose import ColumnTransformer\n",
    "from sklearn.preprocessing import FunctionTransformer, OneHotEncoder\n",
    "from sklearn.metrics import mean_squared_error\n",
    "import numpy as np\n",
    "\n",
    "# Define the date encoding function\n",
    "def encode_dates(X):\n",
    "    X = X.copy()\n",
    "    X[\"year\"] = X[\"date\"].dt.year\n",
    "    X[\"month\"] = X[\"date\"].dt.month\n",
    "    X[\"day\"] = X[\"date\"].dt.day\n",
    "    X[\"hour\"] = X[\"date\"].dt.hour\n",
    "    X[\"weekday\"] = X[\"date\"].dt.weekday\n",
    "    X[\"hour_weekday\"] = X[\"hour\"] + X[\"weekday\"] * 24  # Interaction term\n",
    "    return X.drop(columns=[\"date\"])\n",
    "\n",
    "# Define preprocessors\n",
    "date_encoder = FunctionTransformer(encode_dates)\n",
    "categorical_encoder = OneHotEncoder(handle_unknown=\"ignore\", sparse_output=False)\n",
    "\n",
    "# Combine preprocessors\n",
    "preprocessor = ColumnTransformer(\n",
    "    transformers=[\n",
    "        (\"date\", date_encoder, [\"date\"]),\n",
    "        (\"cat\", categorical_encoder, [\"counter_name\", \"site_name\"]),\n",
    "    ],\n",
    "    remainder=\"passthrough\"\n",
    ")\n",
    "\n",
    "# Define the pipeline\n",
    "pipe = Pipeline(steps=[\n",
    "    (\"preprocessor\", preprocessor),\n",
    "    (\"regressor\", XGBRegressor(random_state=42, n_jobs=-1))\n",
    "])\n",
    "\n",
    "# Define the parameter grid for tuning\n",
    "param_distributions = {\n",
    "    \"regressor__n_estimators\": [100, 200, 300],\n",
    "    \"regressor__learning_rate\": [0.01, 0.05, 0.1, 0.2],\n",
    "    \"regressor__max_depth\": [3, 5, 7, 10],\n",
    "    \"regressor__min_child_weight\": [1, 3, 5],\n",
    "    \"regressor__subsample\": [0.6, 0.8, 1.0],\n",
    "    \"regressor__colsample_bytree\": [0.6, 0.8, 1.0],\n",
    "    \"regressor__gamma\": [0, 0.1, 0.2, 0.3]\n",
    "}\n",
    "\n",
    "# Use RandomizedSearchCV for tuning\n",
    "random_search = RandomizedSearchCV(\n",
    "    estimator=pipe,\n",
    "    param_distributions=param_distributions,\n",
    "    n_iter=50,  # Number of random samples to try\n",
    "    cv=3,  # 3-fold cross-validation\n",
    "    scoring=\"neg_root_mean_squared_error\",  # Metric for evaluation\n",
    "    verbose=2,\n",
    "    random_state=42,\n",
    "    n_jobs=-1\n",
    ")\n",
    "\n",
    "# Fit the model with randomized search\n",
    "random_search.fit(X_train, y_train)\n",
    "\n",
    "# Best parameters and model\n",
    "print(\"Best parameters:\", random_search.best_params_)\n",
    "best_model = random_search.best_estimator_\n",
    "\n",
    "# Evaluate RMSE for Train and Validation sets\n",
    "print(\n",
    "    f\"Train set, RMSE={mean_squared_error(y_train, best_model.predict(X_train), squared=False):.5f}\"\n",
    ")\n",
    "print(\n",
    "    f\"Valid set, RMSE={mean_squared_error(y_valid, best_model.predict(X_valid), squared=False):.5f}\"\n",
    ")\n"
   ]
  },
  {
   "cell_type": "code",
   "execution_count": 41,
   "id": "cdf9c56f-66de-4d21-ab2a-82a4c74bfae3",
   "metadata": {},
   "outputs": [
    {
     "name": "stderr",
     "output_type": "stream",
     "text": [
      "/opt/anaconda3/lib/python3.12/site-packages/sklearn/metrics/_regression.py:483: FutureWarning: 'squared' is deprecated in version 1.4 and will be removed in 1.6. To calculate the root mean squared error, use the function'root_mean_squared_error'.\n",
      "  warnings.warn(\n"
     ]
    },
    {
     "name": "stdout",
     "output_type": "stream",
     "text": [
      "Final Model - Train set RMSE: 0.44778\n",
      "Final Model - Valid set RMSE: 0.45905\n"
     ]
    },
    {
     "name": "stderr",
     "output_type": "stream",
     "text": [
      "/opt/anaconda3/lib/python3.12/site-packages/sklearn/metrics/_regression.py:483: FutureWarning: 'squared' is deprecated in version 1.4 and will be removed in 1.6. To calculate the root mean squared error, use the function'root_mean_squared_error'.\n",
      "  warnings.warn(\n"
     ]
    }
   ],
   "source": [
    "# Extract the best parameters\n",
    "best_params = random_search.best_params_\n",
    "\n",
    "# Train the model with the best parameters\n",
    "final_model = Pipeline(steps=[\n",
    "    (\"preprocessor\", preprocessor),\n",
    "    (\"regressor\", XGBRegressor(\n",
    "        subsample=best_params['regressor__subsample'],\n",
    "        n_estimators=best_params['regressor__n_estimators'],\n",
    "        min_child_weight=best_params['regressor__min_child_weight'],\n",
    "        max_depth=best_params['regressor__max_depth'],\n",
    "        learning_rate=best_params['regressor__learning_rate'],\n",
    "        gamma=best_params['regressor__gamma'],\n",
    "        colsample_bytree=best_params['regressor__colsample_bytree'],\n",
    "        random_state=42,\n",
    "        n_jobs=-1\n",
    "    ))\n",
    "])\n",
    "\n",
    "# Fit the model on the full training set\n",
    "final_model.fit(X_train, y_train)\n",
    "\n",
    "# Evaluate RMSE for Train and Validation sets\n",
    "train_rmse = mean_squared_error(y_train, final_model.predict(X_train), squared=False)\n",
    "valid_rmse = mean_squared_error(y_valid, final_model.predict(X_valid), squared=False)\n",
    "\n",
    "print(f\"Final Model - Train set RMSE: {train_rmse:.5f}\")\n",
    "print(f\"Final Model - Valid set RMSE: {valid_rmse:.5f}\")\n"
   ]
  },
  {
   "cell_type": "markdown",
   "id": "7f07760b-fb19-4ea2-aae2-bd108c97952e",
   "metadata": {},
   "source": [
    "#### Analysis Residual"
   ]
  },
  {
   "cell_type": "markdown",
   "id": "7188a8d2-9511-4957-9337-7d83980d3bf4",
   "metadata": {},
   "source": [
    "#### Hyperparameter Optimization"
   ]
  },
  {
   "cell_type": "code",
   "execution_count": 44,
   "id": "dbaa8dad-f5ac-4085-ab43-2e7e453a69a6",
   "metadata": {},
   "outputs": [
    {
     "name": "stderr",
     "output_type": "stream",
     "text": [
      "[I 2024-12-04 18:59:16,801] A new study created in memory with name: no-name-907f39f2-6d70-4a93-8ad8-1088773c41e9\n",
      "/opt/anaconda3/lib/python3.12/site-packages/sklearn/metrics/_regression.py:483: FutureWarning: 'squared' is deprecated in version 1.4 and will be removed in 1.6. To calculate the root mean squared error, use the function'root_mean_squared_error'.\n",
      "  warnings.warn(\n",
      "[I 2024-12-04 18:59:39,584] Trial 0 finished with value: 0.7014151675919814 and parameters: {'n_estimators': 221, 'learning_rate': 0.011496771849220207, 'max_depth': 6, 'min_child_weight': 8, 'subsample': 0.9992165086779672, 'colsample_bytree': 0.9546986972188404, 'gamma': 0.32784110209119055}. Best is trial 0 with value: 0.7014151675919814.\n",
      "/opt/anaconda3/lib/python3.12/site-packages/sklearn/metrics/_regression.py:483: FutureWarning: 'squared' is deprecated in version 1.4 and will be removed in 1.6. To calculate the root mean squared error, use the function'root_mean_squared_error'.\n",
      "  warnings.warn(\n",
      "[I 2024-12-04 19:00:11,608] Trial 1 finished with value: 0.5087397405324604 and parameters: {'n_estimators': 328, 'learning_rate': 0.13841882119060028, 'max_depth': 7, 'min_child_weight': 8, 'subsample': 0.7051269310308415, 'colsample_bytree': 0.9699063469784517, 'gamma': 0.1725243793702973}. Best is trial 1 with value: 0.5087397405324604.\n",
      "/opt/anaconda3/lib/python3.12/site-packages/sklearn/metrics/_regression.py:483: FutureWarning: 'squared' is deprecated in version 1.4 and will be removed in 1.6. To calculate the root mean squared error, use the function'root_mean_squared_error'.\n",
      "  warnings.warn(\n",
      "[I 2024-12-04 19:00:48,222] Trial 2 finished with value: 0.49763932290307444 and parameters: {'n_estimators': 482, 'learning_rate': 0.1304630670862404, 'max_depth': 5, 'min_child_weight': 5, 'subsample': 0.9951213754846289, 'colsample_bytree': 0.9985635866501584, 'gamma': 0.07891270286982555}. Best is trial 2 with value: 0.49763932290307444.\n",
      "/opt/anaconda3/lib/python3.12/site-packages/sklearn/metrics/_regression.py:483: FutureWarning: 'squared' is deprecated in version 1.4 and will be removed in 1.6. To calculate the root mean squared error, use the function'root_mean_squared_error'.\n",
      "  warnings.warn(\n",
      "[I 2024-12-04 19:01:39,563] Trial 3 finished with value: 0.4794666700374837 and parameters: {'n_estimators': 462, 'learning_rate': 0.012411462926025674, 'max_depth': 9, 'min_child_weight': 1, 'subsample': 0.9051056736092111, 'colsample_bytree': 0.7738003598795001, 'gamma': 0.1506109884785492}. Best is trial 3 with value: 0.4794666700374837.\n",
      "/opt/anaconda3/lib/python3.12/site-packages/sklearn/metrics/_regression.py:483: FutureWarning: 'squared' is deprecated in version 1.4 and will be removed in 1.6. To calculate the root mean squared error, use the function'root_mean_squared_error'.\n",
      "  warnings.warn(\n",
      "[I 2024-12-04 19:02:15,452] Trial 4 finished with value: 0.4782974458251749 and parameters: {'n_estimators': 449, 'learning_rate': 0.10614452036838294, 'max_depth': 9, 'min_child_weight': 7, 'subsample': 0.6742908525704404, 'colsample_bytree': 0.9387062955313817, 'gamma': 0.3991772554299716}. Best is trial 4 with value: 0.4782974458251749.\n",
      "/opt/anaconda3/lib/python3.12/site-packages/sklearn/metrics/_regression.py:483: FutureWarning: 'squared' is deprecated in version 1.4 and will be removed in 1.6. To calculate the root mean squared error, use the function'root_mean_squared_error'.\n",
      "  warnings.warn(\n",
      "[I 2024-12-04 19:02:39,304] Trial 5 finished with value: 0.444793489029406 and parameters: {'n_estimators': 244, 'learning_rate': 0.19191613803694077, 'max_depth': 8, 'min_child_weight': 6, 'subsample': 0.8164431688371492, 'colsample_bytree': 0.699425614333613, 'gamma': 0.052376405211268684}. Best is trial 5 with value: 0.444793489029406.\n",
      "/opt/anaconda3/lib/python3.12/site-packages/sklearn/metrics/_regression.py:483: FutureWarning: 'squared' is deprecated in version 1.4 and will be removed in 1.6. To calculate the root mean squared error, use the function'root_mean_squared_error'.\n",
      "  warnings.warn(\n",
      "[I 2024-12-04 19:02:59,275] Trial 6 finished with value: 0.46363518918593905 and parameters: {'n_estimators': 202, 'learning_rate': 0.13548006269320864, 'max_depth': 8, 'min_child_weight': 6, 'subsample': 0.92384701374823, 'colsample_bytree': 0.7841936415712014, 'gamma': 0.4657936201483978}. Best is trial 5 with value: 0.444793489029406.\n"
     ]
    },
    {
     "name": "stdout",
     "output_type": "stream",
     "text": [
      "[CV] END regressor__colsample_bytree=0.6, regressor__gamma=0.1, regressor__learning_rate=0.2, regressor__max_depth=10, regressor__min_child_weight=5, regressor__n_estimators=200, regressor__subsample=1.0; total time= 1.3min\n",
      "[CV] END regressor__colsample_bytree=0.6, regressor__gamma=0.1, regressor__learning_rate=0.01, regressor__max_depth=5, regressor__min_child_weight=1, regressor__n_estimators=300, regressor__subsample=0.8; total time= 1.6min\n",
      "[CV] END regressor__colsample_bytree=0.8, regressor__gamma=0.3, regressor__learning_rate=0.05, regressor__max_depth=5, regressor__min_child_weight=3, regressor__n_estimators=200, regressor__subsample=0.6; total time= 1.0min\n",
      "[CV] END regressor__colsample_bytree=0.6, regressor__gamma=0, regressor__learning_rate=0.05, regressor__max_depth=3, regressor__min_child_weight=5, regressor__n_estimators=200, regressor__subsample=0.8; total time=  50.0s\n",
      "[CV] END regressor__colsample_bytree=0.6, regressor__gamma=0.1, regressor__learning_rate=0.2, regressor__max_depth=3, regressor__min_child_weight=3, regressor__n_estimators=200, regressor__subsample=0.8; total time=  48.6s\n",
      "[CV] END regressor__colsample_bytree=1.0, regressor__gamma=0.3, regressor__learning_rate=0.1, regressor__max_depth=10, regressor__min_child_weight=1, regressor__n_estimators=100, regressor__subsample=1.0; total time=  50.0s\n",
      "[CV] END regressor__colsample_bytree=1.0, regressor__gamma=0.2, regressor__learning_rate=0.1, regressor__max_depth=3, regressor__min_child_weight=5, regressor__n_estimators=100, regressor__subsample=0.8; total time=  30.9s\n",
      "[CV] END regressor__colsample_bytree=1.0, regressor__gamma=0.1, regressor__learning_rate=0.1, regressor__max_depth=3, regressor__min_child_weight=3, regressor__n_estimators=200, regressor__subsample=0.8; total time=  49.0s\n",
      "[CV] END regressor__colsample_bytree=0.8, regressor__gamma=0.2, regressor__learning_rate=0.1, regressor__max_depth=10, regressor__min_child_weight=3, regressor__n_estimators=300, regressor__subsample=0.6; total time= 2.1min\n",
      "[CV] END regressor__colsample_bytree=0.8, regressor__gamma=0.2, regressor__learning_rate=0.05, regressor__max_depth=5, regressor__min_child_weight=5, regressor__n_estimators=100, regressor__subsample=1.0; total time=  38.6s\n",
      "[CV] END regressor__colsample_bytree=0.8, regressor__gamma=0, regressor__learning_rate=0.01, regressor__max_depth=7, regressor__min_child_weight=5, regressor__n_estimators=300, regressor__subsample=0.6; total time= 1.9min\n",
      "[CV] END regressor__colsample_bytree=0.8, regressor__gamma=0.2, regressor__learning_rate=0.2, regressor__max_depth=10, regressor__min_child_weight=1, regressor__n_estimators=300, regressor__subsample=1.0; total time= 1.2min\n",
      "[CV] END regressor__colsample_bytree=0.6, regressor__gamma=0.3, regressor__learning_rate=0.1, regressor__max_depth=3, regressor__min_child_weight=3, regressor__n_estimators=300, regressor__subsample=0.8; total time= 1.1min\n",
      "[CV] END regressor__colsample_bytree=1.0, regressor__gamma=0, regressor__learning_rate=0.01, regressor__max_depth=10, regressor__min_child_weight=5, regressor__n_estimators=100, regressor__subsample=0.8; total time=  57.3s\n",
      "[CV] END regressor__colsample_bytree=0.6, regressor__gamma=0.1, regressor__learning_rate=0.05, regressor__max_depth=10, regressor__min_child_weight=5, regressor__n_estimators=300, regressor__subsample=0.8; total time= 2.1min\n",
      "[CV] END regressor__colsample_bytree=0.8, regressor__gamma=0.1, regressor__learning_rate=0.05, regressor__max_depth=10, regressor__min_child_weight=3, regressor__n_estimators=200, regressor__subsample=1.0; total time= 1.6min\n",
      "[CV] END regressor__colsample_bytree=0.8, regressor__gamma=0.2, regressor__learning_rate=0.1, regressor__max_depth=3, regressor__min_child_weight=3, regressor__n_estimators=300, regressor__subsample=0.8; total time= 1.2min\n",
      "[CV] END regressor__colsample_bytree=0.6, regressor__gamma=0.3, regressor__learning_rate=0.01, regressor__max_depth=7, regressor__min_child_weight=3, regressor__n_estimators=200, regressor__subsample=0.8; total time= 1.3min\n",
      "[CV] END regressor__colsample_bytree=0.8, regressor__gamma=0.3, regressor__learning_rate=0.01, regressor__max_depth=7, regressor__min_child_weight=3, regressor__n_estimators=200, regressor__subsample=1.0; total time= 1.5min\n",
      "[CV] END regressor__colsample_bytree=1.0, regressor__gamma=0.2, regressor__learning_rate=0.01, regressor__max_depth=10, regressor__min_child_weight=5, regressor__n_estimators=300, regressor__subsample=0.8; total time= 2.6min\n",
      "[CV] END regressor__colsample_bytree=0.6, regressor__gamma=0, regressor__learning_rate=0.05, regressor__max_depth=3, regressor__min_child_weight=5, regressor__n_estimators=200, regressor__subsample=0.8; total time=  50.4s\n",
      "[CV] END regressor__colsample_bytree=0.8, regressor__gamma=0.1, regressor__learning_rate=0.1, regressor__max_depth=7, regressor__min_child_weight=1, regressor__n_estimators=200, regressor__subsample=0.6; total time= 1.1min\n",
      "[CV] END regressor__colsample_bytree=0.6, regressor__gamma=0.2, regressor__learning_rate=0.1, regressor__max_depth=10, regressor__min_child_weight=5, regressor__n_estimators=200, regressor__subsample=1.0; total time= 1.3min\n",
      "[CV] END regressor__colsample_bytree=0.8, regressor__gamma=0.2, regressor__learning_rate=0.1, regressor__max_depth=10, regressor__min_child_weight=3, regressor__n_estimators=300, regressor__subsample=0.6; total time= 2.1min\n",
      "[CV] END regressor__colsample_bytree=0.8, regressor__gamma=0, regressor__learning_rate=0.1, regressor__max_depth=10, regressor__min_child_weight=5, regressor__n_estimators=200, regressor__subsample=0.8; total time= 1.5min\n",
      "[CV] END regressor__colsample_bytree=0.8, regressor__gamma=0.2, regressor__learning_rate=0.05, regressor__max_depth=5, regressor__min_child_weight=1, regressor__n_estimators=300, regressor__subsample=0.8; total time= 1.4min\n",
      "[CV] END regressor__colsample_bytree=1.0, regressor__gamma=0.2, regressor__learning_rate=0.2, regressor__max_depth=3, regressor__min_child_weight=3, regressor__n_estimators=200, regressor__subsample=1.0; total time=  49.6s\n",
      "[CV] END regressor__colsample_bytree=0.6, regressor__gamma=0.2, regressor__learning_rate=0.2, regressor__max_depth=7, regressor__min_child_weight=5, regressor__n_estimators=300, regressor__subsample=0.8; total time= 1.5min\n",
      "[CV] END regressor__colsample_bytree=1.0, regressor__gamma=0.1, regressor__learning_rate=0.01, regressor__max_depth=3, regressor__min_child_weight=1, regressor__n_estimators=100, regressor__subsample=1.0; total time=  34.6s\n",
      "[CV] END regressor__colsample_bytree=1.0, regressor__gamma=0.1, regressor__learning_rate=0.01, regressor__max_depth=3, regressor__min_child_weight=1, regressor__n_estimators=100, regressor__subsample=1.0; total time=  33.1s\n",
      "[CV] END regressor__colsample_bytree=0.8, regressor__gamma=0.1, regressor__learning_rate=0.1, regressor__max_depth=7, regressor__min_child_weight=1, regressor__n_estimators=200, regressor__subsample=1.0; total time= 1.1min\n",
      "[CV] END regressor__colsample_bytree=0.8, regressor__gamma=0.1, regressor__learning_rate=0.1, regressor__max_depth=7, regressor__min_child_weight=1, regressor__n_estimators=200, regressor__subsample=1.0; total time= 1.1min\n",
      "[CV] END regressor__colsample_bytree=0.8, regressor__gamma=0, regressor__learning_rate=0.2, regressor__max_depth=3, regressor__min_child_weight=3, regressor__n_estimators=100, regressor__subsample=0.6; total time=  32.2s\n",
      "[CV] END regressor__colsample_bytree=0.6, regressor__gamma=0, regressor__learning_rate=0.1, regressor__max_depth=3, regressor__min_child_weight=5, regressor__n_estimators=300, regressor__subsample=0.8; total time= 1.1min\n",
      "[CV] END regressor__colsample_bytree=0.8, regressor__gamma=0.2, regressor__learning_rate=0.1, regressor__max_depth=3, regressor__min_child_weight=3, regressor__n_estimators=300, regressor__subsample=0.8; total time= 1.2min\n",
      "[CV] END regressor__colsample_bytree=0.6, regressor__gamma=0.3, regressor__learning_rate=0.05, regressor__max_depth=7, regressor__min_child_weight=5, regressor__n_estimators=100, regressor__subsample=1.0; total time=  44.3s\n",
      "[CV] END regressor__colsample_bytree=1.0, regressor__gamma=0, regressor__learning_rate=0.1, regressor__max_depth=10, regressor__min_child_weight=5, regressor__n_estimators=100, regressor__subsample=0.8; total time= 1.2min\n",
      "[CV] END regressor__colsample_bytree=0.6, regressor__gamma=0.1, regressor__learning_rate=0.01, regressor__max_depth=5, regressor__min_child_weight=1, regressor__n_estimators=300, regressor__subsample=0.8; total time= 1.5min\n",
      "[CV] END regressor__colsample_bytree=0.8, regressor__gamma=0.3, regressor__learning_rate=0.05, regressor__max_depth=5, regressor__min_child_weight=3, regressor__n_estimators=200, regressor__subsample=0.6; total time= 1.0min\n",
      "[CV] END regressor__colsample_bytree=0.8, regressor__gamma=0.2, regressor__learning_rate=0.2, regressor__max_depth=3, regressor__min_child_weight=1, regressor__n_estimators=200, regressor__subsample=0.6; total time=  46.4s\n",
      "[CV] END regressor__colsample_bytree=0.6, regressor__gamma=0.3, regressor__learning_rate=0.2, regressor__max_depth=7, regressor__min_child_weight=3, regressor__n_estimators=100, regressor__subsample=1.0; total time=  39.7s\n",
      "[CV] END regressor__colsample_bytree=0.8, regressor__gamma=0.1, regressor__learning_rate=0.1, regressor__max_depth=7, regressor__min_child_weight=1, regressor__n_estimators=200, regressor__subsample=0.6; total time= 1.1min\n",
      "[CV] END regressor__colsample_bytree=1.0, regressor__gamma=0.2, regressor__learning_rate=0.1, regressor__max_depth=3, regressor__min_child_weight=5, regressor__n_estimators=100, regressor__subsample=0.8; total time=  31.3s\n",
      "[CV] END regressor__colsample_bytree=0.8, regressor__gamma=0.3, regressor__learning_rate=0.2, regressor__max_depth=5, regressor__min_child_weight=3, regressor__n_estimators=100, regressor__subsample=0.8; total time=  35.7s\n",
      "[CV] END regressor__colsample_bytree=0.8, regressor__gamma=0.2, regressor__learning_rate=0.1, regressor__max_depth=10, regressor__min_child_weight=3, regressor__n_estimators=300, regressor__subsample=0.6; total time= 2.0min\n",
      "[CV] END regressor__colsample_bytree=0.8, regressor__gamma=0, regressor__learning_rate=0.1, regressor__max_depth=10, regressor__min_child_weight=5, regressor__n_estimators=200, regressor__subsample=0.8; total time= 1.5min\n",
      "[CV] END regressor__colsample_bytree=0.6, regressor__gamma=0, regressor__learning_rate=0.05, regressor__max_depth=10, regressor__min_child_weight=1, regressor__n_estimators=100, regressor__subsample=0.6; total time=  59.6s\n",
      "[CV] END regressor__colsample_bytree=0.8, regressor__gamma=0.2, regressor__learning_rate=0.2, regressor__max_depth=10, regressor__min_child_weight=1, regressor__n_estimators=300, regressor__subsample=1.0; total time= 1.2min\n",
      "[CV] END regressor__colsample_bytree=0.8, regressor__gamma=0, regressor__learning_rate=0.05, regressor__max_depth=7, regressor__min_child_weight=3, regressor__n_estimators=100, regressor__subsample=0.6; total time=  45.3s\n",
      "[CV] END regressor__colsample_bytree=0.8, regressor__gamma=0.3, regressor__learning_rate=0.05, regressor__max_depth=7, regressor__min_child_weight=3, regressor__n_estimators=300, regressor__subsample=0.8; total time= 1.6min\n",
      "[CV] END regressor__colsample_bytree=0.8, regressor__gamma=0.2, regressor__learning_rate=0.1, regressor__max_depth=7, regressor__min_child_weight=5, regressor__n_estimators=300, regressor__subsample=1.0; total time= 1.6min\n",
      "[CV] END regressor__colsample_bytree=0.6, regressor__gamma=0.1, regressor__learning_rate=0.05, regressor__max_depth=7, regressor__min_child_weight=1, regressor__n_estimators=300, regressor__subsample=0.6; total time= 1.6min\n",
      "[CV] END regressor__colsample_bytree=0.6, regressor__gamma=0, regressor__learning_rate=0.1, regressor__max_depth=3, regressor__min_child_weight=5, regressor__n_estimators=300, regressor__subsample=0.8; total time= 1.1min\n",
      "[CV] END regressor__colsample_bytree=0.8, regressor__gamma=0.2, regressor__learning_rate=0.01, regressor__max_depth=3, regressor__min_child_weight=5, regressor__n_estimators=100, regressor__subsample=1.0; total time=  34.2s\n",
      "[CV] END regressor__colsample_bytree=0.6, regressor__gamma=0.3, regressor__learning_rate=0.01, regressor__max_depth=7, regressor__min_child_weight=3, regressor__n_estimators=200, regressor__subsample=0.8; total time= 1.3min\n",
      "[CV] END regressor__colsample_bytree=0.8, regressor__gamma=0.3, regressor__learning_rate=0.01, regressor__max_depth=7, regressor__min_child_weight=3, regressor__n_estimators=200, regressor__subsample=1.0; total time= 1.5min\n",
      "[CV] END regressor__colsample_bytree=0.8, regressor__gamma=0.3, regressor__learning_rate=0.2, regressor__max_depth=10, regressor__min_child_weight=3, regressor__n_estimators=300, regressor__subsample=0.6; total time= 1.6min\n",
      "[CV] END regressor__colsample_bytree=0.8, regressor__gamma=0.3, regressor__learning_rate=0.05, regressor__max_depth=5, regressor__min_child_weight=3, regressor__n_estimators=200, regressor__subsample=0.6; total time= 1.0min\n",
      "[CV] END regressor__colsample_bytree=0.6, regressor__gamma=0.3, regressor__learning_rate=0.2, regressor__max_depth=7, regressor__min_child_weight=3, regressor__n_estimators=100, regressor__subsample=1.0; total time=  43.6s\n",
      "[CV] END regressor__colsample_bytree=0.8, regressor__gamma=0.1, regressor__learning_rate=0.1, regressor__max_depth=3, regressor__min_child_weight=3, regressor__n_estimators=300, regressor__subsample=0.6; total time= 1.1min\n",
      "[CV] END regressor__colsample_bytree=0.6, regressor__gamma=0.2, regressor__learning_rate=0.1, regressor__max_depth=10, regressor__min_child_weight=5, regressor__n_estimators=200, regressor__subsample=1.0; total time= 1.3min\n",
      "[CV] END regressor__colsample_bytree=1.0, regressor__gamma=0.3, regressor__learning_rate=0.01, regressor__max_depth=10, regressor__min_child_weight=3, regressor__n_estimators=100, regressor__subsample=0.8; total time=  57.9s\n",
      "[CV] END regressor__colsample_bytree=0.6, regressor__gamma=0.1, regressor__learning_rate=0.01, regressor__max_depth=5, regressor__min_child_weight=3, regressor__n_estimators=300, regressor__subsample=0.6; total time= 1.6min\n",
      "[CV] END regressor__colsample_bytree=0.8, regressor__gamma=0.2, regressor__learning_rate=0.05, regressor__max_depth=5, regressor__min_child_weight=5, regressor__n_estimators=100, regressor__subsample=1.0; total time=  39.3s\n",
      "[CV] END regressor__colsample_bytree=0.8, regressor__gamma=0, regressor__learning_rate=0.01, regressor__max_depth=7, regressor__min_child_weight=5, regressor__n_estimators=300, regressor__subsample=0.6; total time= 1.9min\n",
      "[CV] END regressor__colsample_bytree=1.0, regressor__gamma=0.2, regressor__learning_rate=0.2, regressor__max_depth=3, regressor__min_child_weight=3, regressor__n_estimators=200, regressor__subsample=1.0; total time=  49.0s\n",
      "[CV] END regressor__colsample_bytree=0.6, regressor__gamma=0.2, regressor__learning_rate=0.2, regressor__max_depth=7, regressor__min_child_weight=5, regressor__n_estimators=300, regressor__subsample=0.8; total time= 1.5min\n",
      "[CV] END regressor__colsample_bytree=1.0, regressor__gamma=0, regressor__learning_rate=0.01, regressor__max_depth=10, regressor__min_child_weight=5, regressor__n_estimators=100, regressor__subsample=0.8; total time= 1.0min\n",
      "[CV] END regressor__colsample_bytree=0.8, regressor__gamma=0.2, regressor__learning_rate=0.1, regressor__max_depth=7, regressor__min_child_weight=5, regressor__n_estimators=300, regressor__subsample=1.0; total time= 2.1min\n",
      "[CV] END regressor__colsample_bytree=0.8, regressor__gamma=0, regressor__learning_rate=0.2, regressor__max_depth=3, regressor__min_child_weight=3, regressor__n_estimators=100, regressor__subsample=0.6; total time=  34.0s\n",
      "[CV] END regressor__colsample_bytree=0.8, regressor__gamma=0, regressor__learning_rate=0.2, regressor__max_depth=3, regressor__min_child_weight=3, regressor__n_estimators=100, regressor__subsample=0.6; total time=  32.2s\n",
      "[CV] END regressor__colsample_bytree=0.8, regressor__gamma=0, regressor__learning_rate=0.1, regressor__max_depth=10, regressor__min_child_weight=3, regressor__n_estimators=300, regressor__subsample=0.8; total time= 2.2min\n",
      "[CV] END regressor__colsample_bytree=0.8, regressor__gamma=0.1, regressor__learning_rate=0.2, regressor__max_depth=7, regressor__min_child_weight=5, regressor__n_estimators=100, regressor__subsample=0.6; total time=  38.6s\n",
      "[CV] END regressor__colsample_bytree=1.0, regressor__gamma=0, regressor__learning_rate=0.1, regressor__max_depth=10, regressor__min_child_weight=5, regressor__n_estimators=100, regressor__subsample=0.8; total time= 1.2min\n",
      "[CV] END regressor__colsample_bytree=0.6, regressor__gamma=0.1, regressor__learning_rate=0.01, regressor__max_depth=5, regressor__min_child_weight=1, regressor__n_estimators=300, regressor__subsample=0.8; total time= 1.5min\n",
      "[CV] END regressor__colsample_bytree=0.8, regressor__gamma=0.3, regressor__learning_rate=0.2, regressor__max_depth=10, regressor__min_child_weight=3, regressor__n_estimators=300, regressor__subsample=0.6; total time= 1.6min\n",
      "[CV] END regressor__colsample_bytree=0.6, regressor__gamma=0.3, regressor__learning_rate=0.2, regressor__max_depth=7, regressor__min_child_weight=3, regressor__n_estimators=100, regressor__subsample=1.0; total time=  43.8s\n",
      "[CV] END regressor__colsample_bytree=0.8, regressor__gamma=0.1, regressor__learning_rate=0.1, regressor__max_depth=3, regressor__min_child_weight=3, regressor__n_estimators=300, regressor__subsample=0.6; total time= 1.1min\n",
      "[CV] END regressor__colsample_bytree=0.6, regressor__gamma=0.2, regressor__learning_rate=0.1, regressor__max_depth=10, regressor__min_child_weight=5, regressor__n_estimators=200, regressor__subsample=1.0; total time= 1.3min\n",
      "[CV] END regressor__colsample_bytree=1.0, regressor__gamma=0.3, regressor__learning_rate=0.01, regressor__max_depth=10, regressor__min_child_weight=3, regressor__n_estimators=100, regressor__subsample=0.8; total time= 1.0min\n",
      "[CV] END regressor__colsample_bytree=0.6, regressor__gamma=0.2, regressor__learning_rate=0.1, regressor__max_depth=3, regressor__min_child_weight=1, regressor__n_estimators=100, regressor__subsample=1.0; total time=  31.7s\n",
      "[CV] END regressor__colsample_bytree=0.8, regressor__gamma=0.1, regressor__learning_rate=0.2, regressor__max_depth=7, regressor__min_child_weight=5, regressor__n_estimators=100, regressor__subsample=1.0; total time=  39.4s\n",
      "[CV] END regressor__colsample_bytree=0.8, regressor__gamma=0.2, regressor__learning_rate=0.05, regressor__max_depth=5, regressor__min_child_weight=5, regressor__n_estimators=100, regressor__subsample=1.0; total time=  40.2s\n",
      "[CV] END regressor__colsample_bytree=0.6, regressor__gamma=0.2, regressor__learning_rate=0.05, regressor__max_depth=3, regressor__min_child_weight=1, regressor__n_estimators=200, regressor__subsample=0.6; total time=  52.3s\n",
      "[CV] END regressor__colsample_bytree=0.8, regressor__gamma=0.2, regressor__learning_rate=0.05, regressor__max_depth=5, regressor__min_child_weight=1, regressor__n_estimators=300, regressor__subsample=0.8; total time= 1.4min\n",
      "[CV] END regressor__colsample_bytree=1.0, regressor__gamma=0.2, regressor__learning_rate=0.2, regressor__max_depth=3, regressor__min_child_weight=3, regressor__n_estimators=200, regressor__subsample=1.0; total time=  47.8s\n",
      "[CV] END regressor__colsample_bytree=0.6, regressor__gamma=0.3, regressor__learning_rate=0.1, regressor__max_depth=3, regressor__min_child_weight=3, regressor__n_estimators=300, regressor__subsample=0.8; total time= 1.1min\n",
      "[CV] END regressor__colsample_bytree=0.8, regressor__gamma=0.3, regressor__learning_rate=0.05, regressor__max_depth=7, regressor__min_child_weight=3, regressor__n_estimators=300, regressor__subsample=0.8; total time= 1.6min\n",
      "[CV] END regressor__colsample_bytree=0.8, regressor__gamma=0.1, regressor__learning_rate=0.1, regressor__max_depth=7, regressor__min_child_weight=1, regressor__n_estimators=200, regressor__subsample=1.0; total time= 1.2min\n",
      "[CV] END regressor__colsample_bytree=0.6, regressor__gamma=0.1, regressor__learning_rate=0.05, regressor__max_depth=7, regressor__min_child_weight=1, regressor__n_estimators=300, regressor__subsample=0.6; total time= 1.7min\n",
      "[CV] END regressor__colsample_bytree=0.8, regressor__gamma=0, regressor__learning_rate=0.1, regressor__max_depth=10, regressor__min_child_weight=3, regressor__n_estimators=300, regressor__subsample=0.8; total time= 2.2min\n",
      "[CV] END regressor__colsample_bytree=0.6, regressor__gamma=0.3, regressor__learning_rate=0.05, regressor__max_depth=7, regressor__min_child_weight=5, regressor__n_estimators=100, regressor__subsample=1.0; total time=  43.2s\n",
      "[CV] END regressor__colsample_bytree=0.6, regressor__gamma=0.1, regressor__learning_rate=0.2, regressor__max_depth=10, regressor__min_child_weight=5, regressor__n_estimators=200, regressor__subsample=1.0; total time= 1.3min\n",
      "[CV] END regressor__colsample_bytree=1.0, regressor__gamma=0.2, regressor__learning_rate=0.01, regressor__max_depth=10, regressor__min_child_weight=5, regressor__n_estimators=300, regressor__subsample=0.8; total time= 2.6min\n",
      "[CV] END regressor__colsample_bytree=0.8, regressor__gamma=0.2, regressor__learning_rate=0.2, regressor__max_depth=3, regressor__min_child_weight=1, regressor__n_estimators=200, regressor__subsample=0.6; total time=  49.5s\n",
      "[CV] END regressor__colsample_bytree=0.6, regressor__gamma=0.1, regressor__learning_rate=0.2, regressor__max_depth=3, regressor__min_child_weight=3, regressor__n_estimators=200, regressor__subsample=0.8; total time=  47.9s\n",
      "[CV] END regressor__colsample_bytree=1.0, regressor__gamma=0.3, regressor__learning_rate=0.1, regressor__max_depth=10, regressor__min_child_weight=1, regressor__n_estimators=100, regressor__subsample=1.0; total time=  52.3s\n",
      "[CV] END regressor__colsample_bytree=1.0, regressor__gamma=0.2, regressor__learning_rate=0.1, regressor__max_depth=3, regressor__min_child_weight=5, regressor__n_estimators=100, regressor__subsample=0.8; total time=  31.6s\n",
      "[CV] END regressor__colsample_bytree=1.0, regressor__gamma=0.1, regressor__learning_rate=0.1, regressor__max_depth=3, regressor__min_child_weight=3, regressor__n_estimators=200, regressor__subsample=0.8; total time=  48.8s\n",
      "[CV] END regressor__colsample_bytree=0.6, regressor__gamma=0.1, regressor__learning_rate=0.01, regressor__max_depth=5, regressor__min_child_weight=3, regressor__n_estimators=300, regressor__subsample=0.6; total time= 1.5min\n",
      "[CV] END regressor__colsample_bytree=0.8, regressor__gamma=0.1, regressor__learning_rate=0.2, regressor__max_depth=7, regressor__min_child_weight=5, regressor__n_estimators=100, regressor__subsample=1.0; total time=  40.7s\n",
      "[CV] END regressor__colsample_bytree=0.6, regressor__gamma=0.2, regressor__learning_rate=0.05, regressor__max_depth=3, regressor__min_child_weight=1, regressor__n_estimators=200, regressor__subsample=0.6; total time=  51.6s\n",
      "[CV] END regressor__colsample_bytree=0.8, regressor__gamma=0, regressor__learning_rate=0.01, regressor__max_depth=7, regressor__min_child_weight=5, regressor__n_estimators=300, regressor__subsample=0.6; total time= 1.9min\n",
      "[CV] END regressor__colsample_bytree=0.8, regressor__gamma=0, regressor__learning_rate=0.05, regressor__max_depth=7, regressor__min_child_weight=3, regressor__n_estimators=100, regressor__subsample=0.6; total time=  43.2s\n",
      "[CV] END regressor__colsample_bytree=0.6, regressor__gamma=0.3, regressor__learning_rate=0.1, regressor__max_depth=3, regressor__min_child_weight=3, regressor__n_estimators=300, regressor__subsample=0.8; total time= 1.2min\n",
      "[CV] END regressor__colsample_bytree=1.0, regressor__gamma=0, regressor__learning_rate=0.01, regressor__max_depth=10, regressor__min_child_weight=5, regressor__n_estimators=100, regressor__subsample=0.8; total time=  57.2s\n",
      "[CV] END regressor__colsample_bytree=0.8, regressor__gamma=0.2, regressor__learning_rate=0.1, regressor__max_depth=7, regressor__min_child_weight=5, regressor__n_estimators=300, regressor__subsample=1.0; total time= 1.6min\n",
      "[CV] END regressor__colsample_bytree=0.6, regressor__gamma=0.1, regressor__learning_rate=0.05, regressor__max_depth=7, regressor__min_child_weight=1, regressor__n_estimators=300, regressor__subsample=0.6; total time= 1.6min\n",
      "[CV] END regressor__colsample_bytree=0.6, regressor__gamma=0, regressor__learning_rate=0.1, regressor__max_depth=3, regressor__min_child_weight=5, regressor__n_estimators=300, regressor__subsample=0.8; total time= 1.1min\n",
      "[CV] END regressor__colsample_bytree=0.8, regressor__gamma=0.2, regressor__learning_rate=0.01, regressor__max_depth=3, regressor__min_child_weight=5, regressor__n_estimators=100, regressor__subsample=1.0; total time=  33.9s\n",
      "[CV] END regressor__colsample_bytree=0.6, regressor__gamma=0.3, regressor__learning_rate=0.01, regressor__max_depth=7, regressor__min_child_weight=3, regressor__n_estimators=200, regressor__subsample=0.8; total time= 1.3min\n",
      "[CV] END regressor__colsample_bytree=1.0, regressor__gamma=0, regressor__learning_rate=0.1, regressor__max_depth=10, regressor__min_child_weight=5, regressor__n_estimators=100, regressor__subsample=0.8; total time= 1.1min\n",
      "[CV] END regressor__colsample_bytree=0.8, regressor__gamma=0.3, regressor__learning_rate=0.01, regressor__max_depth=7, regressor__min_child_weight=3, regressor__n_estimators=200, regressor__subsample=1.0; total time= 1.4min\n",
      "[CV] END regressor__colsample_bytree=0.8, regressor__gamma=0.3, regressor__learning_rate=0.2, regressor__max_depth=10, regressor__min_child_weight=3, regressor__n_estimators=300, regressor__subsample=0.6; total time= 1.5min\n",
      "[CV] END regressor__colsample_bytree=0.6, regressor__gamma=0, regressor__learning_rate=0.05, regressor__max_depth=3, regressor__min_child_weight=5, regressor__n_estimators=200, regressor__subsample=0.8; total time=  49.4s\n",
      "[CV] END regressor__colsample_bytree=0.8, regressor__gamma=0.1, regressor__learning_rate=0.1, regressor__max_depth=3, regressor__min_child_weight=3, regressor__n_estimators=300, regressor__subsample=0.6; total time= 1.1min\n",
      "[CV] END regressor__colsample_bytree=1.0, regressor__gamma=0.3, regressor__learning_rate=0.1, regressor__max_depth=10, regressor__min_child_weight=1, regressor__n_estimators=100, regressor__subsample=1.0; total time=  51.5s\n",
      "[CV] END regressor__colsample_bytree=0.8, regressor__gamma=0.3, regressor__learning_rate=0.2, regressor__max_depth=5, regressor__min_child_weight=3, regressor__n_estimators=100, regressor__subsample=0.8; total time=  35.9s\n",
      "[CV] END regressor__colsample_bytree=1.0, regressor__gamma=0.3, regressor__learning_rate=0.01, regressor__max_depth=10, regressor__min_child_weight=3, regressor__n_estimators=100, regressor__subsample=0.8; total time=  58.4s\n",
      "[CV] END regressor__colsample_bytree=0.6, regressor__gamma=0.2, regressor__learning_rate=0.1, regressor__max_depth=3, regressor__min_child_weight=1, regressor__n_estimators=100, regressor__subsample=1.0; total time=  32.3s\n",
      "[CV] END regressor__colsample_bytree=0.6, regressor__gamma=0.2, regressor__learning_rate=0.1, regressor__max_depth=3, regressor__min_child_weight=1, regressor__n_estimators=100, regressor__subsample=1.0; total time=  31.9s\n",
      "[CV] END regressor__colsample_bytree=0.8, regressor__gamma=0.1, regressor__learning_rate=0.2, regressor__max_depth=7, regressor__min_child_weight=5, regressor__n_estimators=100, regressor__subsample=1.0; total time=  40.8s\n",
      "[CV] END regressor__colsample_bytree=0.6, regressor__gamma=0.2, regressor__learning_rate=0.05, regressor__max_depth=3, regressor__min_child_weight=1, regressor__n_estimators=200, regressor__subsample=0.6; total time=  51.3s\n",
      "[CV] END regressor__colsample_bytree=0.6, regressor__gamma=0, regressor__learning_rate=0.05, regressor__max_depth=10, regressor__min_child_weight=1, regressor__n_estimators=100, regressor__subsample=0.6; total time=  56.9s\n",
      "[CV] END regressor__colsample_bytree=0.8, regressor__gamma=0.2, regressor__learning_rate=0.05, regressor__max_depth=5, regressor__min_child_weight=1, regressor__n_estimators=300, regressor__subsample=0.8; total time= 1.4min\n",
      "[CV] END regressor__colsample_bytree=0.6, regressor__gamma=0.2, regressor__learning_rate=0.2, regressor__max_depth=7, regressor__min_child_weight=5, regressor__n_estimators=300, regressor__subsample=0.8; total time= 1.5min\n",
      "[CV] END regressor__colsample_bytree=1.0, regressor__gamma=0.1, regressor__learning_rate=0.01, regressor__max_depth=3, regressor__min_child_weight=1, regressor__n_estimators=100, regressor__subsample=1.0; total time=  34.4s\n",
      "[CV] END regressor__colsample_bytree=0.6, regressor__gamma=0.1, regressor__learning_rate=0.05, regressor__max_depth=10, regressor__min_child_weight=5, regressor__n_estimators=300, regressor__subsample=0.8; total time= 2.1min\n",
      "[CV] END regressor__colsample_bytree=0.8, regressor__gamma=0.1, regressor__learning_rate=0.05, regressor__max_depth=10, regressor__min_child_weight=3, regressor__n_estimators=200, regressor__subsample=1.0; total time= 1.5min\n",
      "[CV] END regressor__colsample_bytree=0.8, regressor__gamma=0, regressor__learning_rate=0.1, regressor__max_depth=10, regressor__min_child_weight=3, regressor__n_estimators=300, regressor__subsample=0.8; total time= 2.2min\n",
      "[CV] END regressor__colsample_bytree=0.8, regressor__gamma=0.1, regressor__learning_rate=0.2, regressor__max_depth=7, regressor__min_child_weight=5, regressor__n_estimators=100, regressor__subsample=0.6; total time=  35.0s\n"
     ]
    },
    {
     "name": "stderr",
     "output_type": "stream",
     "text": [
      "/opt/anaconda3/lib/python3.12/site-packages/sklearn/metrics/_regression.py:483: FutureWarning: 'squared' is deprecated in version 1.4 and will be removed in 1.6. To calculate the root mean squared error, use the function'root_mean_squared_error'.\n",
      "  warnings.warn(\n",
      "[I 2024-12-04 19:03:40,323] Trial 7 finished with value: 0.43130882117076735 and parameters: {'n_estimators': 344, 'learning_rate': 0.19394809152242892, 'max_depth': 10, 'min_child_weight': 2, 'subsample': 0.9102576460348326, 'colsample_bytree': 0.6361234593080416, 'gamma': 0.02846297167963341}. Best is trial 7 with value: 0.43130882117076735.\n"
     ]
    },
    {
     "name": "stdout",
     "output_type": "stream",
     "text": [
      "[CV] END regressor__colsample_bytree=0.6, regressor__gamma=0.1, regressor__learning_rate=0.2, regressor__max_depth=10, regressor__min_child_weight=5, regressor__n_estimators=200, regressor__subsample=1.0; total time= 1.3min\n",
      "[CV] END regressor__colsample_bytree=1.0, regressor__gamma=0.2, regressor__learning_rate=0.01, regressor__max_depth=10, regressor__min_child_weight=5, regressor__n_estimators=300, regressor__subsample=0.8; total time= 2.5min\n",
      "[CV] END regressor__colsample_bytree=0.8, regressor__gamma=0.2, regressor__learning_rate=0.2, regressor__max_depth=3, regressor__min_child_weight=1, regressor__n_estimators=200, regressor__subsample=0.6; total time=  48.7s\n",
      "[CV] END regressor__colsample_bytree=0.6, regressor__gamma=0.1, regressor__learning_rate=0.2, regressor__max_depth=3, regressor__min_child_weight=3, regressor__n_estimators=200, regressor__subsample=0.8; total time=  48.5s\n",
      "[CV] END regressor__colsample_bytree=0.8, regressor__gamma=0.1, regressor__learning_rate=0.1, regressor__max_depth=7, regressor__min_child_weight=1, regressor__n_estimators=200, regressor__subsample=0.6; total time= 1.1min\n",
      "[CV] END regressor__colsample_bytree=0.8, regressor__gamma=0.3, regressor__learning_rate=0.2, regressor__max_depth=5, regressor__min_child_weight=3, regressor__n_estimators=100, regressor__subsample=0.8; total time=  34.4s\n",
      "[CV] END regressor__colsample_bytree=1.0, regressor__gamma=0.1, regressor__learning_rate=0.1, regressor__max_depth=3, regressor__min_child_weight=3, regressor__n_estimators=200, regressor__subsample=0.8; total time=  50.2s\n",
      "[CV] END regressor__colsample_bytree=0.6, regressor__gamma=0.1, regressor__learning_rate=0.01, regressor__max_depth=5, regressor__min_child_weight=3, regressor__n_estimators=300, regressor__subsample=0.6; total time= 1.5min\n",
      "[CV] END regressor__colsample_bytree=0.8, regressor__gamma=0, regressor__learning_rate=0.1, regressor__max_depth=10, regressor__min_child_weight=5, regressor__n_estimators=200, regressor__subsample=0.8; total time= 1.5min\n",
      "[CV] END regressor__colsample_bytree=0.6, regressor__gamma=0, regressor__learning_rate=0.05, regressor__max_depth=10, regressor__min_child_weight=1, regressor__n_estimators=100, regressor__subsample=0.6; total time=  57.4s\n",
      "[CV] END regressor__colsample_bytree=0.8, regressor__gamma=0.2, regressor__learning_rate=0.2, regressor__max_depth=10, regressor__min_child_weight=1, regressor__n_estimators=300, regressor__subsample=1.0; total time= 1.2min\n",
      "[CV] END regressor__colsample_bytree=0.8, regressor__gamma=0, regressor__learning_rate=0.05, regressor__max_depth=7, regressor__min_child_weight=3, regressor__n_estimators=100, regressor__subsample=0.6; total time=  42.8s\n",
      "[CV] END regressor__colsample_bytree=0.8, regressor__gamma=0.3, regressor__learning_rate=0.05, regressor__max_depth=7, regressor__min_child_weight=3, regressor__n_estimators=300, regressor__subsample=0.8; total time= 1.6min\n",
      "[CV] END regressor__colsample_bytree=0.6, regressor__gamma=0.1, regressor__learning_rate=0.05, regressor__max_depth=10, regressor__min_child_weight=5, regressor__n_estimators=300, regressor__subsample=0.8; total time= 2.1min\n",
      "[CV] END regressor__colsample_bytree=0.8, regressor__gamma=0.1, regressor__learning_rate=0.05, regressor__max_depth=10, regressor__min_child_weight=3, regressor__n_estimators=200, regressor__subsample=1.0; total time= 1.5min\n",
      "[CV] END regressor__colsample_bytree=0.8, regressor__gamma=0.2, regressor__learning_rate=0.1, regressor__max_depth=3, regressor__min_child_weight=3, regressor__n_estimators=300, regressor__subsample=0.8; total time= 1.2min\n",
      "[CV] END regressor__colsample_bytree=0.8, regressor__gamma=0.2, regressor__learning_rate=0.01, regressor__max_depth=3, regressor__min_child_weight=5, regressor__n_estimators=100, regressor__subsample=1.0; total time=  36.8s\n",
      "[CV] END regressor__colsample_bytree=0.6, regressor__gamma=0.3, regressor__learning_rate=0.05, regressor__max_depth=7, regressor__min_child_weight=5, regressor__n_estimators=100, regressor__subsample=1.0; total time=  43.1s\n",
      "[CV] END regressor__colsample_bytree=0.8, regressor__gamma=0.1, regressor__learning_rate=0.2, regressor__max_depth=7, regressor__min_child_weight=5, regressor__n_estimators=100, regressor__subsample=0.6; total time=  20.2s\n"
     ]
    },
    {
     "name": "stderr",
     "output_type": "stream",
     "text": [
      "/opt/anaconda3/lib/python3.12/site-packages/sklearn/metrics/_regression.py:483: FutureWarning: 'squared' is deprecated in version 1.4 and will be removed in 1.6. To calculate the root mean squared error, use the function'root_mean_squared_error'.\n",
      "  warnings.warn(\n",
      "[I 2024-12-04 19:04:04,218] Trial 8 finished with value: 0.5430810706870485 and parameters: {'n_estimators': 428, 'learning_rate': 0.13390952729671604, 'max_depth': 3, 'min_child_weight': 5, 'subsample': 0.8225476007101005, 'colsample_bytree': 0.9427327151785636, 'gamma': 0.375045704368643}. Best is trial 7 with value: 0.43130882117076735.\n",
      "/opt/anaconda3/lib/python3.12/site-packages/sklearn/metrics/_regression.py:483: FutureWarning: 'squared' is deprecated in version 1.4 and will be removed in 1.6. To calculate the root mean squared error, use the function'root_mean_squared_error'.\n",
      "  warnings.warn(\n",
      "[I 2024-12-04 19:04:21,377] Trial 9 finished with value: 0.5367187065134692 and parameters: {'n_estimators': 159, 'learning_rate': 0.03365043760190354, 'max_depth': 7, 'min_child_weight': 10, 'subsample': 0.8980434658622576, 'colsample_bytree': 0.6347860861423648, 'gamma': 0.18536275804909846}. Best is trial 7 with value: 0.43130882117076735.\n",
      "/opt/anaconda3/lib/python3.12/site-packages/sklearn/metrics/_regression.py:483: FutureWarning: 'squared' is deprecated in version 1.4 and will be removed in 1.6. To calculate the root mean squared error, use the function'root_mean_squared_error'.\n",
      "  warnings.warn(\n",
      "[I 2024-12-04 19:04:59,239] Trial 10 finished with value: 0.43008132997669807 and parameters: {'n_estimators': 341, 'learning_rate': 0.198283907251971, 'max_depth': 10, 'min_child_weight': 1, 'subsample': 0.6013798443686517, 'colsample_bytree': 0.6023761318112504, 'gamma': 0.0013464261729210086}. Best is trial 10 with value: 0.43008132997669807.\n",
      "/opt/anaconda3/lib/python3.12/site-packages/sklearn/metrics/_regression.py:483: FutureWarning: 'squared' is deprecated in version 1.4 and will be removed in 1.6. To calculate the root mean squared error, use the function'root_mean_squared_error'.\n",
      "  warnings.warn(\n",
      "[I 2024-12-04 19:05:33,745] Trial 11 finished with value: 0.4495839121619132 and parameters: {'n_estimators': 323, 'learning_rate': 0.19264811541428056, 'max_depth': 10, 'min_child_weight': 1, 'subsample': 0.7365720497829339, 'colsample_bytree': 0.6014536732940072, 'gamma': 0.012698555544608095}. Best is trial 10 with value: 0.43008132997669807.\n",
      "/opt/anaconda3/lib/python3.12/site-packages/sklearn/metrics/_regression.py:483: FutureWarning: 'squared' is deprecated in version 1.4 and will be removed in 1.6. To calculate the root mean squared error, use the function'root_mean_squared_error'.\n",
      "  warnings.warn(\n",
      "[I 2024-12-04 19:06:19,164] Trial 12 finished with value: 0.4289343686359065 and parameters: {'n_estimators': 380, 'learning_rate': 0.16739073191203302, 'max_depth': 10, 'min_child_weight': 3, 'subsample': 0.6148508519053404, 'colsample_bytree': 0.7009399785584514, 'gamma': 0.004185876110115167}. Best is trial 12 with value: 0.4289343686359065.\n",
      "/opt/anaconda3/lib/python3.12/site-packages/sklearn/metrics/_regression.py:483: FutureWarning: 'squared' is deprecated in version 1.4 and will be removed in 1.6. To calculate the root mean squared error, use the function'root_mean_squared_error'.\n",
      "  warnings.warn(\n",
      "[I 2024-12-04 19:07:00,906] Trial 13 finished with value: 0.4521513637368734 and parameters: {'n_estimators': 394, 'learning_rate': 0.16843381234870003, 'max_depth': 10, 'min_child_weight': 3, 'subsample': 0.6006136856970817, 'colsample_bytree': 0.7083871557317868, 'gamma': 0.10836423381482126}. Best is trial 12 with value: 0.4289343686359065.\n",
      "/opt/anaconda3/lib/python3.12/site-packages/sklearn/metrics/_regression.py:483: FutureWarning: 'squared' is deprecated in version 1.4 and will be removed in 1.6. To calculate the root mean squared error, use the function'root_mean_squared_error'.\n",
      "  warnings.warn(\n",
      "[I 2024-12-04 19:07:32,589] Trial 14 finished with value: 0.4154025633394131 and parameters: {'n_estimators': 384, 'learning_rate': 0.1665558870680518, 'max_depth': 9, 'min_child_weight': 3, 'subsample': 0.6013312923182433, 'colsample_bytree': 0.7003763379123777, 'gamma': 0.2935350533643978}. Best is trial 14 with value: 0.4154025633394131.\n",
      "/opt/anaconda3/lib/python3.12/site-packages/sklearn/metrics/_regression.py:483: FutureWarning: 'squared' is deprecated in version 1.4 and will be removed in 1.6. To calculate the root mean squared error, use the function'root_mean_squared_error'.\n",
      "  warnings.warn(\n",
      "[I 2024-12-04 19:08:22,613] Trial 15 finished with value: 0.4604619952137124 and parameters: {'n_estimators': 388, 'learning_rate': 0.06612253641244334, 'max_depth': 8, 'min_child_weight': 3, 'subsample': 0.6624891967320653, 'colsample_bytree': 0.855167488827951, 'gamma': 0.2647914716555276}. Best is trial 14 with value: 0.4154025633394131.\n",
      "/opt/anaconda3/lib/python3.12/site-packages/sklearn/metrics/_regression.py:483: FutureWarning: 'squared' is deprecated in version 1.4 and will be removed in 1.6. To calculate the root mean squared error, use the function'root_mean_squared_error'.\n",
      "  warnings.warn(\n",
      "[I 2024-12-04 19:08:36,624] Trial 16 finished with value: 0.45986801474441075 and parameters: {'n_estimators': 100, 'learning_rate': 0.16076379989292455, 'max_depth': 9, 'min_child_weight': 4, 'subsample': 0.7566249625626322, 'colsample_bytree': 0.7282672625576371, 'gamma': 0.27449253231058596}. Best is trial 14 with value: 0.4154025633394131.\n",
      "/opt/anaconda3/lib/python3.12/site-packages/sklearn/metrics/_regression.py:483: FutureWarning: 'squared' is deprecated in version 1.4 and will be removed in 1.6. To calculate the root mean squared error, use the function'root_mean_squared_error'.\n",
      "  warnings.warn(\n",
      "[I 2024-12-04 19:08:55,718] Trial 17 finished with value: 0.5273724965490711 and parameters: {'n_estimators': 286, 'learning_rate': 0.0932605547952611, 'max_depth': 4, 'min_child_weight': 3, 'subsample': 0.6508034558783672, 'colsample_bytree': 0.8390460188543085, 'gamma': 0.22131363625138423}. Best is trial 14 with value: 0.4154025633394131.\n",
      "/opt/anaconda3/lib/python3.12/site-packages/sklearn/metrics/_regression.py:483: FutureWarning: 'squared' is deprecated in version 1.4 and will be removed in 1.6. To calculate the root mean squared error, use the function'root_mean_squared_error'.\n",
      "  warnings.warn(\n",
      "[I 2024-12-04 19:09:31,532] Trial 18 finished with value: 0.46485057156391696 and parameters: {'n_estimators': 396, 'learning_rate': 0.1619126308174698, 'max_depth': 6, 'min_child_weight': 4, 'subsample': 0.6310643966875478, 'colsample_bytree': 0.6697692681305993, 'gamma': 0.3258615361997892}. Best is trial 14 with value: 0.4154025633394131.\n",
      "/opt/anaconda3/lib/python3.12/site-packages/sklearn/metrics/_regression.py:483: FutureWarning: 'squared' is deprecated in version 1.4 and will be removed in 1.6. To calculate the root mean squared error, use the function'root_mean_squared_error'.\n",
      "  warnings.warn(\n",
      "[I 2024-12-04 19:10:00,123] Trial 19 finished with value: 0.46014590117304677 and parameters: {'n_estimators': 299, 'learning_rate': 0.17184602849699054, 'max_depth': 9, 'min_child_weight': 2, 'subsample': 0.7012744342702596, 'colsample_bytree': 0.7333658506825288, 'gamma': 0.464641242325106}. Best is trial 14 with value: 0.4154025633394131.\n",
      "/opt/anaconda3/lib/python3.12/site-packages/sklearn/metrics/_regression.py:483: FutureWarning: 'squared' is deprecated in version 1.4 and will be removed in 1.6. To calculate the root mean squared error, use the function'root_mean_squared_error'.\n",
      "  warnings.warn(\n",
      "[I 2024-12-04 19:10:47,489] Trial 20 finished with value: 0.47678552281087194 and parameters: {'n_estimators': 496, 'learning_rate': 0.10359733098900811, 'max_depth': 8, 'min_child_weight': 4, 'subsample': 0.7618554204820486, 'colsample_bytree': 0.7539632772320508, 'gamma': 0.12704010939180146}. Best is trial 14 with value: 0.4154025633394131.\n",
      "/opt/anaconda3/lib/python3.12/site-packages/sklearn/metrics/_regression.py:483: FutureWarning: 'squared' is deprecated in version 1.4 and will be removed in 1.6. To calculate the root mean squared error, use the function'root_mean_squared_error'.\n",
      "  warnings.warn(\n",
      "[I 2024-12-04 19:11:34,903] Trial 21 finished with value: 0.42464374001811556 and parameters: {'n_estimators': 362, 'learning_rate': 0.17821284378142774, 'max_depth': 10, 'min_child_weight': 2, 'subsample': 0.6134779891936177, 'colsample_bytree': 0.6669515812338619, 'gamma': 0.007403981025038031}. Best is trial 14 with value: 0.4154025633394131.\n",
      "/opt/anaconda3/lib/python3.12/site-packages/sklearn/metrics/_regression.py:483: FutureWarning: 'squared' is deprecated in version 1.4 and will be removed in 1.6. To calculate the root mean squared error, use the function'root_mean_squared_error'.\n",
      "  warnings.warn(\n",
      "[I 2024-12-04 19:12:18,940] Trial 22 finished with value: 0.44411513819066023 and parameters: {'n_estimators': 382, 'learning_rate': 0.1475917194790723, 'max_depth': 10, 'min_child_weight': 2, 'subsample': 0.6287544099767151, 'colsample_bytree': 0.667873730040451, 'gamma': 0.06771434306042062}. Best is trial 14 with value: 0.4154025633394131.\n",
      "/opt/anaconda3/lib/python3.12/site-packages/sklearn/metrics/_regression.py:483: FutureWarning: 'squared' is deprecated in version 1.4 and will be removed in 1.6. To calculate the root mean squared error, use the function'root_mean_squared_error'.\n",
      "  warnings.warn(\n",
      "[I 2024-12-04 19:12:51,136] Trial 23 finished with value: 0.47368968162127056 and parameters: {'n_estimators': 431, 'learning_rate': 0.17546476183708115, 'max_depth': 9, 'min_child_weight': 3, 'subsample': 0.6960316641612881, 'colsample_bytree': 0.8169211416372548, 'gamma': 0.23898207943729627}. Best is trial 14 with value: 0.4154025633394131.\n",
      "/opt/anaconda3/lib/python3.12/site-packages/sklearn/metrics/_regression.py:483: FutureWarning: 'squared' is deprecated in version 1.4 and will be removed in 1.6. To calculate the root mean squared error, use the function'root_mean_squared_error'.\n",
      "  warnings.warn(\n",
      "[I 2024-12-04 19:13:28,884] Trial 24 finished with value: 0.4477570201613455 and parameters: {'n_estimators': 367, 'learning_rate': 0.11628477292691938, 'max_depth': 10, 'min_child_weight': 2, 'subsample': 0.6276209098430928, 'colsample_bytree': 0.6778626185864636, 'gamma': 0.09436985614475288}. Best is trial 14 with value: 0.4154025633394131.\n",
      "/opt/anaconda3/lib/python3.12/site-packages/sklearn/metrics/_regression.py:483: FutureWarning: 'squared' is deprecated in version 1.4 and will be removed in 1.6. To calculate the root mean squared error, use the function'root_mean_squared_error'.\n",
      "  warnings.warn(\n",
      "[I 2024-12-04 19:13:53,563] Trial 25 finished with value: 0.4406747060050268 and parameters: {'n_estimators': 269, 'learning_rate': 0.15136188036311393, 'max_depth': 9, 'min_child_weight': 4, 'subsample': 0.6014881396845432, 'colsample_bytree': 0.645767168248694, 'gamma': 0.31208059378137626}. Best is trial 14 with value: 0.4154025633394131.\n",
      "/opt/anaconda3/lib/python3.12/site-packages/sklearn/metrics/_regression.py:483: FutureWarning: 'squared' is deprecated in version 1.4 and will be removed in 1.6. To calculate the root mean squared error, use the function'root_mean_squared_error'.\n",
      "  warnings.warn(\n",
      "[I 2024-12-04 19:14:27,931] Trial 26 finished with value: 0.4343724009207871 and parameters: {'n_estimators': 409, 'learning_rate': 0.17671166012538847, 'max_depth': 7, 'min_child_weight': 2, 'subsample': 0.6711711311847621, 'colsample_bytree': 0.7024117505743506, 'gamma': 0.20628306551003212}. Best is trial 14 with value: 0.4154025633394131.\n",
      "/opt/anaconda3/lib/python3.12/site-packages/sklearn/metrics/_regression.py:483: FutureWarning: 'squared' is deprecated in version 1.4 and will be removed in 1.6. To calculate the root mean squared error, use the function'root_mean_squared_error'.\n",
      "  warnings.warn(\n",
      "[I 2024-12-04 19:15:06,964] Trial 27 finished with value: 0.44066162442595125 and parameters: {'n_estimators': 359, 'learning_rate': 0.07483155550360143, 'max_depth': 10, 'min_child_weight': 5, 'subsample': 0.8583948372355764, 'colsample_bytree': 0.737429568506152, 'gamma': 0.03867010913659897}. Best is trial 14 with value: 0.4154025633394131.\n",
      "/opt/anaconda3/lib/python3.12/site-packages/sklearn/metrics/_regression.py:483: FutureWarning: 'squared' is deprecated in version 1.4 and will be removed in 1.6. To calculate the root mean squared error, use the function'root_mean_squared_error'.\n",
      "  warnings.warn(\n",
      "[I 2024-12-04 19:15:33,598] Trial 28 finished with value: 0.45949930457605825 and parameters: {'n_estimators': 424, 'learning_rate': 0.18090060306071223, 'max_depth': 8, 'min_child_weight': 3, 'subsample': 0.7293386928460039, 'colsample_bytree': 0.7619940308387684, 'gamma': 0.3828547246590946}. Best is trial 14 with value: 0.4154025633394131.\n",
      "/opt/anaconda3/lib/python3.12/site-packages/sklearn/metrics/_regression.py:483: FutureWarning: 'squared' is deprecated in version 1.4 and will be removed in 1.6. To calculate the root mean squared error, use the function'root_mean_squared_error'.\n",
      "  warnings.warn(\n",
      "[I 2024-12-04 19:16:02,884] Trial 29 finished with value: 0.47388867238604027 and parameters: {'n_estimators': 314, 'learning_rate': 0.1520641680017014, 'max_depth': 9, 'min_child_weight': 1, 'subsample': 0.6465665774378186, 'colsample_bytree': 0.8066416757173164, 'gamma': 0.1406425495782689}. Best is trial 14 with value: 0.4154025633394131.\n"
     ]
    },
    {
     "name": "stdout",
     "output_type": "stream",
     "text": [
      "Best parameters: {'n_estimators': 384, 'learning_rate': 0.1665558870680518, 'max_depth': 9, 'min_child_weight': 3, 'subsample': 0.6013312923182433, 'colsample_bytree': 0.7003763379123777, 'gamma': 0.2935350533643978}\n"
     ]
    },
    {
     "name": "stderr",
     "output_type": "stream",
     "text": [
      "/opt/anaconda3/lib/python3.12/site-packages/sklearn/metrics/_regression.py:483: FutureWarning: 'squared' is deprecated in version 1.4 and will be removed in 1.6. To calculate the root mean squared error, use the function'root_mean_squared_error'.\n",
      "  warnings.warn(\n"
     ]
    },
    {
     "name": "stdout",
     "output_type": "stream",
     "text": [
      "Final XGboost Model - Train RMSE: 0.32372\n",
      "Final XGboost Model - Validation RMSE: 0.41540\n"
     ]
    },
    {
     "name": "stderr",
     "output_type": "stream",
     "text": [
      "/opt/anaconda3/lib/python3.12/site-packages/sklearn/metrics/_regression.py:483: FutureWarning: 'squared' is deprecated in version 1.4 and will be removed in 1.6. To calculate the root mean squared error, use the function'root_mean_squared_error'.\n",
      "  warnings.warn(\n"
     ]
    }
   ],
   "source": [
    "import optuna\n",
    "from sklearn.metrics import mean_squared_error\n",
    "from xgboost import XGBRegressor\n",
    "\n",
    "def objective(trial):\n",
    "    # Suggest hyperparameters\n",
    "    params = {\n",
    "        \"n_estimators\": trial.suggest_int(\"n_estimators\", 100, 500),\n",
    "        \"learning_rate\": trial.suggest_float(\"learning_rate\", 0.01, 0.2),\n",
    "        \"max_depth\": trial.suggest_int(\"max_depth\", 3, 10),\n",
    "        \"min_child_weight\": trial.suggest_int(\"min_child_weight\", 1, 10),\n",
    "        \"subsample\": trial.suggest_float(\"subsample\", 0.6, 1.0),\n",
    "        \"colsample_bytree\": trial.suggest_float(\"colsample_bytree\", 0.6, 1.0),\n",
    "        \"gamma\": trial.suggest_float(\"gamma\", 0, 0.5),\n",
    "    }\n",
    "\n",
    "    # Create a pipeline with the suggested parameters\n",
    "    pipe = Pipeline(steps=[\n",
    "        (\"preprocessor\", preprocessor),\n",
    "        (\"regressor\", XGBRegressor(random_state=42, **params))\n",
    "    ])\n",
    "    \n",
    "    # Fit and evaluate\n",
    "    pipe.fit(X_train, y_train)\n",
    "    y_valid_pred = pipe.predict(X_valid)\n",
    "    rmse = mean_squared_error(y_valid, y_valid_pred, squared=False)\n",
    "    return rmse\n",
    "\n",
    "# Create and run the study\n",
    "study = optuna.create_study(direction=\"minimize\")\n",
    "study.optimize(objective, n_trials=30)\n",
    "\n",
    "# Display the best parameters\n",
    "print(\"Best parameters:\", study.best_params)\n",
    "\n",
    "# Train the model with the best parameters\n",
    "best_params = study.best_params\n",
    "final_xg_model = Pipeline(steps=[\n",
    "    (\"preprocessor\", preprocessor),\n",
    "    (\"regressor\", XGBRegressor(random_state=42, **best_params))\n",
    "])\n",
    "final_xg_model.fit(X_train, y_train)\n",
    "\n",
    "# Evaluate Train and Validation RMSE\n",
    "train_rmse = mean_squared_error(y_train, final_xg_model.predict(X_train), squared=False)\n",
    "valid_rmse = mean_squared_error(y_valid, final_xg_model.predict(X_valid), squared=False)\n",
    "\n",
    "print(f\"Final XGboost Model - Train RMSE: {train_rmse:.5f}\")\n",
    "print(f\"Final XGboost Model - Validation RMSE: {valid_rmse:.5f}\")\n"
   ]
  },
  {
   "cell_type": "code",
   "execution_count": 45,
   "id": "fcf792ff-9d84-4335-a0f5-b57cae717424",
   "metadata": {},
   "outputs": [
    {
     "name": "stderr",
     "output_type": "stream",
     "text": [
      "/opt/anaconda3/lib/python3.12/site-packages/sklearn/metrics/_regression.py:483: FutureWarning: 'squared' is deprecated in version 1.4 and will be removed in 1.6. To calculate the root mean squared error, use the function'root_mean_squared_error'.\n",
      "  warnings.warn(\n"
     ]
    },
    {
     "name": "stdout",
     "output_type": "stream",
     "text": [
      "Final XGboost Model - Train RMSE: 0.32372\n",
      "Final XGboost Model - Validation RMSE: 0.41540\n"
     ]
    },
    {
     "name": "stderr",
     "output_type": "stream",
     "text": [
      "/opt/anaconda3/lib/python3.12/site-packages/sklearn/metrics/_regression.py:483: FutureWarning: 'squared' is deprecated in version 1.4 and will be removed in 1.6. To calculate the root mean squared error, use the function'root_mean_squared_error'.\n",
      "  warnings.warn(\n"
     ]
    }
   ],
   "source": [
    "final_xg_model.fit(X_train, y_train)\n",
    "\n",
    "# Evaluate Train and Validation RMSE\n",
    "train_rmse = mean_squared_error(y_train, final_xg_model.predict(X_train), squared=False)\n",
    "valid_rmse = mean_squared_error(y_valid, final_xg_model.predict(X_valid), squared=False)\n",
    "\n",
    "print(f\"Final XGboost Model - Train RMSE: {train_rmse:.5f}\")\n",
    "print(f\"Final XGboost Model - Validation RMSE: {valid_rmse:.5f}\")\n"
   ]
  },
  {
   "cell_type": "markdown",
   "id": "a75c2cae-18b4-4347-9609-50ebaaa351d6",
   "metadata": {},
   "source": [
    "#### Analyze Residuals"
   ]
  },
  {
   "cell_type": "code",
   "execution_count": 47,
   "id": "1af63b64-d4d1-4fb2-8e04-a68594051dd9",
   "metadata": {},
   "outputs": [
    {
     "data": {
      "image/png": "[encoded data removed]",
      "text/plain": [
       "<Figure size 1200x600 with 1 Axes>"
      ]
     },
     "metadata": {},
     "output_type": "display_data"
    },
    {
     "data": {
      "image/png": "[encoded data removed]",
      "text/plain": [
       "<Figure size 1200x600 with 1 Axes>"
      ]
     },
     "metadata": {},
     "output_type": "display_data"
    }
   ],
   "source": [
    "import matplotlib.pyplot as plt\n",
    "import seaborn as sns\n",
    "\n",
    "# Calculate residuals\n",
    "train_residuals = y_train - final_xg_model.predict(X_train)\n",
    "valid_residuals = y_valid - final_xg_model.predict(X_valid)\n",
    "\n",
    "# Plot residual distribution\n",
    "plt.figure(figsize=(12, 6))\n",
    "sns.histplot(train_residuals, kde=True, label=\"Train Residuals\")\n",
    "sns.histplot(valid_residuals, kde=True, label=\"Validation Residuals\", color=\"orange\")\n",
    "plt.title(\"Residual Distribution\")\n",
    "plt.xlabel(\"Residuals\")\n",
    "plt.legend()\n",
    "plt.show()\n",
    "\n",
    "# Scatter plot of residuals\n",
    "plt.figure(figsize=(12, 6))\n",
    "plt.scatter(final_model.predict(X_valid), valid_residuals, alpha=0.3)\n",
    "plt.axhline(0, color='red', linestyle='--')\n",
    "plt.title(\"Residuals vs Predictions\")\n",
    "plt.xlabel(\"Predicted Values\")\n",
    "plt.ylabel(\"Residuals\")\n",
    "plt.show()\n"
   ]
  },
  {
   "cell_type": "markdown",
   "id": "aa0dd100-f033-4034-b881-ec766d4e5186",
   "metadata": {},
   "source": [
    "### CatBoost"
   ]
  },
  {
   "cell_type": "code",
   "execution_count": 49,
   "id": "84a42d05-339a-4b2e-b93c-2a331f9659cb",
   "metadata": {},
   "outputs": [
    {
     "name": "stdout",
     "output_type": "stream",
     "text": [
      "0:\tlearn: 1.5795171\ttest: 1.4014513\tbest: 1.4014513 (0)\ttotal: 259ms\tremaining: 4m 19s\n",
      "100:\tlearn: 0.6576507\ttest: 0.5993405\tbest: 0.5993405 (100)\ttotal: 10.7s\tremaining: 1m 34s\n",
      "200:\tlearn: 0.5867369\ttest: 0.5405326\tbest: 0.5405326 (200)\ttotal: 22.6s\tremaining: 1m 29s\n",
      "300:\tlearn: 0.5494077\ttest: 0.5114228\tbest: 0.5114228 (300)\ttotal: 33.5s\tremaining: 1m 17s\n",
      "400:\tlearn: 0.5261097\ttest: 0.4923687\tbest: 0.4923687 (400)\ttotal: 45.2s\tremaining: 1m 7s\n",
      "500:\tlearn: 0.5071449\ttest: 0.4831755\tbest: 0.4831755 (500)\ttotal: 56.6s\tremaining: 56.4s\n",
      "600:\tlearn: 0.4937009\ttest: 0.4740466\tbest: 0.4739527 (599)\ttotal: 1m 8s\tremaining: 45.7s\n",
      "700:\tlearn: 0.4842273\ttest: 0.4683262\tbest: 0.4683262 (700)\ttotal: 1m 20s\tremaining: 34.3s\n",
      "800:\tlearn: 0.4762151\ttest: 0.4629242\tbest: 0.4628485 (797)\ttotal: 1m 31s\tremaining: 22.8s\n",
      "900:\tlearn: 0.4692318\ttest: 0.4563351\tbest: 0.4563240 (899)\ttotal: 1m 45s\tremaining: 11.6s\n",
      "999:\tlearn: 0.4630064\ttest: 0.4541638\tbest: 0.4541638 (999)\ttotal: 1m 56s\tremaining: 0us\n",
      "\n",
      "bestTest = 0.4541638185\n",
      "bestIteration = 999\n",
      "\n",
      "CatBoost - Train set, RMSE=0.45986\n",
      "CatBoost - Valid set, RMSE=0.45416\n"
     ]
    },
    {
     "name": "stderr",
     "output_type": "stream",
     "text": [
      "/opt/anaconda3/lib/python3.12/site-packages/sklearn/metrics/_regression.py:483: FutureWarning: 'squared' is deprecated in version 1.4 and will be removed in 1.6. To calculate the root mean squared error, use the function'root_mean_squared_error'.\n",
      "  warnings.warn(\n",
      "/opt/anaconda3/lib/python3.12/site-packages/sklearn/metrics/_regression.py:483: FutureWarning: 'squared' is deprecated in version 1.4 and will be removed in 1.6. To calculate the root mean squared error, use the function'root_mean_squared_error'.\n",
      "  warnings.warn(\n"
     ]
    }
   ],
   "source": [
    "from catboost import CatBoostRegressor\n",
    "from sklearn.metrics import mean_squared_error\n",
    "\n",
    "# Function to preprocess date\n",
    "def preprocess_datetime(data):\n",
    "    data = data.copy()\n",
    "    data[\"year\"] = data[\"date\"].dt.year\n",
    "    data[\"month\"] = data[\"date\"].dt.month\n",
    "    data[\"day\"] = data[\"date\"].dt.day\n",
    "    data[\"hour\"] = data[\"date\"].dt.hour\n",
    "    data[\"weekday\"] = data[\"date\"].dt.weekday\n",
    "    data[\"hour_weekday\"] = data[\"hour\"] + data[\"weekday\"] * 24  # Interaction term\n",
    "    return data.drop(columns=[\"date\"])  # Drop the original datetime column\n",
    "\n",
    "# Apply preprocessing to the train and validation datasets\n",
    "X_train_preprocessed = preprocess_datetime(X_train)\n",
    "X_valid_preprocessed = preprocess_datetime(X_valid)\n",
    "\n",
    "# Specify categorical feature indices (relative to preprocessed data)\n",
    "categorical_features = [\"counter_name\", \"site_name\"]\n",
    "cat_features_indices = [X_train_preprocessed.columns.get_loc(col) for col in categorical_features]\n",
    "\n",
    "# Train CatBoostRegressor\n",
    "cat_model = CatBoostRegressor(\n",
    "    iterations=1000,\n",
    "    learning_rate=0.1,\n",
    "    depth=5,\n",
    "    random_seed=42,\n",
    "    cat_features=cat_features_indices,\n",
    "    verbose=100\n",
    ")\n",
    "cat_model.fit(\n",
    "    X_train_preprocessed, y_train,\n",
    "    eval_set=(X_valid_preprocessed, y_valid),\n",
    "    early_stopping_rounds=50\n",
    ")\n",
    "\n",
    "# Evaluate Train and Validation RMSE\n",
    "train_rmse = mean_squared_error(y_train, cat_model.predict(X_train_preprocessed), squared=False)\n",
    "valid_rmse = mean_squared_error(y_valid, cat_model.predict(X_valid_preprocessed), squared=False)\n",
    "\n",
    "print(f\"CatBoost - Train set, RMSE={train_rmse:.5f}\")\n",
    "print(f\"CatBoost - Valid set, RMSE={valid_rmse:.5f}\")\n"
   ]
  },
  {
   "cell_type": "code",
   "execution_count": 50,
   "id": "06bbbe1e-61a8-469e-8bf6-762589e1df68",
   "metadata": {},
   "outputs": [
    {
     "name": "stderr",
     "output_type": "stream",
     "text": [
      "[I 2024-12-04 19:19:15,822] A new study created in memory with name: no-name-adf261f8-4458-4c26-b87e-05fcdfcac2d7\n",
      "/opt/anaconda3/lib/python3.12/site-packages/sklearn/metrics/_regression.py:483: FutureWarning: 'squared' is deprecated in version 1.4 and will be removed in 1.6. To calculate the root mean squared error, use the function'root_mean_squared_error'.\n",
      "  warnings.warn(\n",
      "[I 2024-12-04 19:22:14,851] Trial 0 finished with value: 0.44040994019521873 and parameters: {'iterations': 697, 'learning_rate': 0.18569060363180373, 'depth': 9, 'l2_leaf_reg': 1.5138128407878848, 'random_strength': 6.34536371933144, 'bootstrap_type': 'MVS', 'subsample': 0.9655451663037415}. Best is trial 0 with value: 0.44040994019521873.\n",
      "/opt/anaconda3/lib/python3.12/site-packages/sklearn/metrics/_regression.py:483: FutureWarning: 'squared' is deprecated in version 1.4 and will be removed in 1.6. To calculate the root mean squared error, use the function'root_mean_squared_error'.\n",
      "  warnings.warn(\n",
      "[I 2024-12-04 19:24:46,175] Trial 1 finished with value: 0.4607905974830976 and parameters: {'iterations': 1307, 'learning_rate': 0.15012783038961863, 'depth': 10, 'l2_leaf_reg': 5.267508662481003, 'random_strength': 9.021853944490928, 'bootstrap_type': 'Bernoulli', 'subsample': 0.640420914136118}. Best is trial 0 with value: 0.44040994019521873.\n",
      "/opt/anaconda3/lib/python3.12/site-packages/sklearn/metrics/_regression.py:483: FutureWarning: 'squared' is deprecated in version 1.4 and will be removed in 1.6. To calculate the root mean squared error, use the function'root_mean_squared_error'.\n",
      "  warnings.warn(\n",
      "[I 2024-12-04 19:25:58,715] Trial 2 finished with value: 0.4367184427750466 and parameters: {'iterations': 927, 'learning_rate': 0.23853023400691165, 'depth': 9, 'l2_leaf_reg': 5.996954877117027, 'random_strength': 1.8456251785298243, 'bootstrap_type': 'MVS', 'subsample': 0.6011541483478536}. Best is trial 2 with value: 0.4367184427750466.\n",
      "/opt/anaconda3/lib/python3.12/site-packages/sklearn/metrics/_regression.py:483: FutureWarning: 'squared' is deprecated in version 1.4 and will be removed in 1.6. To calculate the root mean squared error, use the function'root_mean_squared_error'.\n",
      "  warnings.warn(\n",
      "[I 2024-12-04 19:26:19,516] Trial 3 finished with value: 0.6989878856354624 and parameters: {'iterations': 1277, 'learning_rate': 0.05102964616042511, 'depth': 7, 'l2_leaf_reg': 1.3390096595632288, 'random_strength': 9.485936027791107, 'bootstrap_type': 'MVS', 'subsample': 0.7427334891810056}. Best is trial 2 with value: 0.4367184427750466.\n",
      "/opt/anaconda3/lib/python3.12/site-packages/sklearn/metrics/_regression.py:483: FutureWarning: 'squared' is deprecated in version 1.4 and will be removed in 1.6. To calculate the root mean squared error, use the function'root_mean_squared_error'.\n",
      "  warnings.warn(\n",
      "[I 2024-12-04 19:28:38,580] Trial 4 finished with value: 0.4423849702745539 and parameters: {'iterations': 583, 'learning_rate': 0.09341082360306456, 'depth': 8, 'l2_leaf_reg': 9.58155555076408, 'random_strength': 6.916501357071136, 'bootstrap_type': 'MVS', 'subsample': 0.9606324057933149}. Best is trial 2 with value: 0.4367184427750466.\n",
      "/opt/anaconda3/lib/python3.12/site-packages/sklearn/metrics/_regression.py:483: FutureWarning: 'squared' is deprecated in version 1.4 and will be removed in 1.6. To calculate the root mean squared error, use the function'root_mean_squared_error'.\n",
      "  warnings.warn(\n",
      "[I 2024-12-04 19:29:59,546] Trial 5 finished with value: 0.5052060638087662 and parameters: {'iterations': 1066, 'learning_rate': 0.2586965508356853, 'depth': 6, 'l2_leaf_reg': 1.2733639744973355, 'random_strength': 5.294455074569445, 'bootstrap_type': 'Bayesian', 'bagging_temperature': 4.419167965461696}. Best is trial 2 with value: 0.4367184427750466.\n",
      "/opt/anaconda3/lib/python3.12/site-packages/sklearn/metrics/_regression.py:483: FutureWarning: 'squared' is deprecated in version 1.4 and will be removed in 1.6. To calculate the root mean squared error, use the function'root_mean_squared_error'.\n",
      "  warnings.warn(\n",
      "[I 2024-12-04 19:34:39,273] Trial 6 finished with value: 0.4835362682544823 and parameters: {'iterations': 1619, 'learning_rate': 0.025995119778697125, 'depth': 7, 'l2_leaf_reg': 7.54057872582392, 'random_strength': 5.251232638105398, 'bootstrap_type': 'MVS', 'subsample': 0.6679201570491801}. Best is trial 2 with value: 0.4367184427750466.\n",
      "/opt/anaconda3/lib/python3.12/site-packages/sklearn/metrics/_regression.py:483: FutureWarning: 'squared' is deprecated in version 1.4 and will be removed in 1.6. To calculate the root mean squared error, use the function'root_mean_squared_error'.\n",
      "  warnings.warn(\n",
      "[I 2024-12-04 19:36:33,895] Trial 7 finished with value: 0.47623423229910683 and parameters: {'iterations': 1125, 'learning_rate': 0.20376236095099035, 'depth': 10, 'l2_leaf_reg': 5.390716165252879, 'random_strength': 7.398972101227898, 'bootstrap_type': 'Bernoulli', 'subsample': 0.732571590321289}. Best is trial 2 with value: 0.4367184427750466.\n",
      "/opt/anaconda3/lib/python3.12/site-packages/sklearn/metrics/_regression.py:483: FutureWarning: 'squared' is deprecated in version 1.4 and will be removed in 1.6. To calculate the root mean squared error, use the function'root_mean_squared_error'.\n",
      "  warnings.warn(\n",
      "[I 2024-12-04 19:40:06,511] Trial 8 finished with value: 0.44903371135388626 and parameters: {'iterations': 1306, 'learning_rate': 0.14333042365374782, 'depth': 9, 'l2_leaf_reg': 8.809923982901985, 'random_strength': 9.548042026943328, 'bootstrap_type': 'Bernoulli', 'subsample': 0.884758257288271}. Best is trial 2 with value: 0.4367184427750466.\n",
      "/opt/anaconda3/lib/python3.12/site-packages/sklearn/metrics/_regression.py:483: FutureWarning: 'squared' is deprecated in version 1.4 and will be removed in 1.6. To calculate the root mean squared error, use the function'root_mean_squared_error'.\n",
      "  warnings.warn(\n",
      "[I 2024-12-04 19:43:33,027] Trial 9 finished with value: 0.4910167220298504 and parameters: {'iterations': 1911, 'learning_rate': 0.027295586709064387, 'depth': 5, 'l2_leaf_reg': 8.683482520220318, 'random_strength': 1.4862072945301616, 'bootstrap_type': 'Bernoulli', 'subsample': 0.6454000310603978}. Best is trial 2 with value: 0.4367184427750466.\n"
     ]
    },
    {
     "name": "stdout",
     "output_type": "stream",
     "text": [
      "Best parameters: {'iterations': 927, 'learning_rate': 0.23853023400691165, 'depth': 9, 'l2_leaf_reg': 5.996954877117027, 'random_strength': 1.8456251785298243, 'bootstrap_type': 'MVS', 'subsample': 0.6011541483478536}\n",
      "Best Validation RMSE: 0.43672\n",
      "0:\tlearn: 1.4130337\ttest: 1.2421619\tbest: 1.2421619 (0)\ttotal: 218ms\tremaining: 3m 22s\n",
      "100:\tlearn: 0.4523980\ttest: 0.4616646\tbest: 0.4616646 (100)\ttotal: 22.1s\tremaining: 3m\n",
      "200:\tlearn: 0.4066136\ttest: 0.4411392\tbest: 0.4406611 (199)\ttotal: 44.5s\tremaining: 2m 40s\n",
      "300:\tlearn: 0.3843263\ttest: 0.4368253\tbest: 0.4368253 (300)\ttotal: 1m 6s\tremaining: 2m 17s\n",
      "Stopped by overfitting detector  (50 iterations wait)\n",
      "\n",
      "bestTest = 0.4367184473\n",
      "bestIteration = 308\n",
      "\n",
      "Shrink model to first 309 iterations.\n",
      "Final CatBoost Model - Train RMSE: 0.38103\n",
      "Final CatBoost Model - Validation RMSE: 0.43672\n"
     ]
    },
    {
     "name": "stderr",
     "output_type": "stream",
     "text": [
      "/opt/anaconda3/lib/python3.12/site-packages/sklearn/metrics/_regression.py:483: FutureWarning: 'squared' is deprecated in version 1.4 and will be removed in 1.6. To calculate the root mean squared error, use the function'root_mean_squared_error'.\n",
      "  warnings.warn(\n",
      "/opt/anaconda3/lib/python3.12/site-packages/sklearn/metrics/_regression.py:483: FutureWarning: 'squared' is deprecated in version 1.4 and will be removed in 1.6. To calculate the root mean squared error, use the function'root_mean_squared_error'.\n",
      "  warnings.warn(\n"
     ]
    }
   ],
   "source": [
    "import optuna\n",
    "from catboost import CatBoostRegressor\n",
    "from sklearn.metrics import mean_squared_error\n",
    "\n",
    "def objective(trial):\n",
    "    # Suggest hyperparameters for CatBoost\n",
    "    params = {\n",
    "        \"iterations\": trial.suggest_int(\"iterations\", 500, 2000),\n",
    "        \"learning_rate\": trial.suggest_float(\"learning_rate\", 0.01, 0.3),\n",
    "        \"depth\": trial.suggest_int(\"depth\", 4, 10),\n",
    "        \"l2_leaf_reg\": trial.suggest_float(\"l2_leaf_reg\", 1, 10),\n",
    "        \"random_strength\": trial.suggest_float(\"random_strength\", 1, 10),\n",
    "        \"bootstrap_type\": trial.suggest_categorical(\"bootstrap_type\", [\"Bayesian\", \"Bernoulli\", \"MVS\"]),\n",
    "    }\n",
    "\n",
    "    # Only add `subsample` if bootstrap type is not Bayesian\n",
    "    if params[\"bootstrap_type\"] != \"Bayesian\":\n",
    "        params[\"subsample\"] = trial.suggest_float(\"subsample\", 0.6, 1.0)\n",
    "\n",
    "    # Add bagging temperature for Bayesian bootstrap\n",
    "    if params[\"bootstrap_type\"] == \"Bayesian\":\n",
    "        params[\"bagging_temperature\"] = trial.suggest_float(\"bagging_temperature\", 0, 10)\n",
    "\n",
    "    # Create and train the CatBoost model\n",
    "    model = CatBoostRegressor(\n",
    "        cat_features=cat_features_indices,\n",
    "        random_seed=42,\n",
    "        verbose=0,\n",
    "        **params\n",
    "    )\n",
    "    model.fit(X_train_preprocessed, y_train, eval_set=(X_valid_preprocessed, y_valid), early_stopping_rounds=50)\n",
    "\n",
    "    # Calculate RMSE for validation set\n",
    "    valid_rmse = mean_squared_error(y_valid, model.predict(X_valid_preprocessed), squared=False)\n",
    "    return valid_rmse\n",
    "\n",
    "# Create an Optuna study and optimize\n",
    "study = optuna.create_study(direction=\"minimize\")\n",
    "study.optimize(objective, n_trials=10, timeout=3600)  # Run 50 trials or stop after 1 hour\n",
    "\n",
    "# Display the best parameters and RMSE\n",
    "print(\"Best parameters:\", study.best_params)\n",
    "print(f\"Best Validation RMSE: {study.best_value:.5f}\")\n",
    "\n",
    "# Train final model with the best parameters\n",
    "best_params = study.best_params\n",
    "final_cat_model = CatBoostRegressor(\n",
    "    cat_features=cat_features_indices,\n",
    "    random_seed=42,\n",
    "    verbose=100,\n",
    "    **best_params\n",
    ")\n",
    "final_cat_model.fit(X_train_preprocessed, y_train, eval_set=(X_valid_preprocessed, y_valid), early_stopping_rounds=50)\n",
    "\n",
    "# Evaluate Train and Validation RMSE\n",
    "train_rmse = mean_squared_error(y_train, final_cat_model.predict(X_train_preprocessed), squared=False)\n",
    "valid_rmse = mean_squared_error(y_valid, final_cat_model.predict(X_valid_preprocessed), squared=False)\n",
    "\n",
    "print(f\"Final CatBoost Model - Train RMSE: {train_rmse:.5f}\")\n",
    "print(f\"Final CatBoost Model - Validation RMSE: {valid_rmse:.5f}\")\n"
   ]
  },
  {
   "cell_type": "markdown",
   "id": "0e7a8175-3c86-4e6d-b6f2-4e2e1a3973bd",
   "metadata": {},
   "source": [
    "#### Feature Importance"
   ]
  },
  {
   "cell_type": "code",
   "execution_count": null,
   "id": "42c20f19-f6c7-427b-967c-3deb815c3e9e",
   "metadata": {},
   "outputs": [],
   "source": []
  },
  {
   "cell_type": "code",
   "execution_count": 53,
   "id": "f539a122-597b-4adb-8f39-d5398a3cdc3d",
   "metadata": {
    "scrolled": true
   },
   "outputs": [
    {
     "name": "stdout",
     "output_type": "stream",
     "text": [
      "      Feature Id  Importances\n",
      "0           hour    52.344962\n",
      "1          month    14.692249\n",
      "2      site_name     9.904705\n",
      "3   counter_name     5.743343\n",
      "4        site_id     5.007553\n",
      "5   hour_weekday     4.166312\n",
      "6            day     2.915155\n",
      "7      longitude     2.249986\n",
      "8       latitude     1.610362\n",
      "9        weekday     0.773208\n",
      "10          year     0.592165\n"
     ]
    },
    {
     "data": {
      "image/png": "[encoded data removed]",
      "text/plain": [
       "<Figure size 1000x800 with 1 Axes>"
      ]
     },
     "metadata": {},
     "output_type": "display_data"
    }
   ],
   "source": [
    "import matplotlib.pyplot as plt\n",
    "feature_importances = cat_model.get_feature_importance(prettified=True)\n",
    "print(feature_importances)\n",
    "\n",
    "# Plot feature importance\n",
    "plt.figure(figsize=(10, 8))\n",
    "plt.barh(feature_importances[\"Feature Id\"], feature_importances[\"Importances\"])\n",
    "plt.xlabel(\"Importance\")\n",
    "plt.ylabel(\"Feature\")\n",
    "plt.title(\"Feature Importance\")\n",
    "plt.gca().invert_yaxis()\n",
    "plt.show()\n"
   ]
  },
  {
   "cell_type": "markdown",
   "id": "3fcce36d-c0af-4bb9-b641-4f81c0a12d41",
   "metadata": {},
   "source": [
    "### Stacking(Catboost and Xgboost)"
   ]
  },
  {
   "cell_type": "code",
   "execution_count": 55,
   "id": "a5585a3d-d561-411e-8c22-320123ebf3fd",
   "metadata": {},
   "outputs": [],
   "source": [
    "from catboost import CatBoostRegressor\n",
    "from xgboost import XGBRegressor\n",
    "from sklearn.metrics import mean_squared_error\n"
   ]
  },
  {
   "cell_type": "code",
   "execution_count": 56,
   "id": "2130ee92-d688-4c28-85bb-a5b2e6f9cad0",
   "metadata": {},
   "outputs": [
    {
     "name": "stdout",
     "output_type": "stream",
     "text": [
      "0:\tlearn: 1.4130337\ttest: 1.2421619\tbest: 1.2421619 (0)\ttotal: 238ms\tremaining: 3m 39s\n",
      "100:\tlearn: 0.4523980\ttest: 0.4616646\tbest: 0.4616646 (100)\ttotal: 21.8s\tremaining: 2m 57s\n",
      "200:\tlearn: 0.4066136\ttest: 0.4411392\tbest: 0.4406611 (199)\ttotal: 43.7s\tremaining: 2m 37s\n",
      "300:\tlearn: 0.3843263\ttest: 0.4368253\tbest: 0.4368253 (300)\ttotal: 1m 4s\tremaining: 2m 14s\n",
      "Stopped by overfitting detector  (50 iterations wait)\n",
      "\n",
      "bestTest = 0.4367184473\n",
      "bestIteration = 308\n",
      "\n",
      "Shrink model to first 309 iterations.\n"
     ]
    },
    {
     "data": {
      "text/plain": [
       "array([1.2610207 , 1.0884482 , 0.95070416, ..., 3.1288133 , 2.3477006 ,\n",
       "       2.3439925 ], dtype=float32)"
      ]
     },
     "execution_count": 56,
     "metadata": {},
     "output_type": "execute_result"
    }
   ],
   "source": [
    "final_cat_model.fit(X_train_preprocessed, y_train, eval_set=(X_valid_preprocessed, y_valid), early_stopping_rounds=50)\n",
    "final_cat_model.predict(X_valid_preprocessed)\n",
    "\n",
    "final_xg_model.fit(X_train, y_train)\n",
    "final_xg_model.predict(X_valid)"
   ]
  },
  {
   "cell_type": "code",
   "execution_count": 57,
   "id": "c6527396-2d85-4bda-9a9a-9066c972c345",
   "metadata": {},
   "outputs": [],
   "source": [
    "cat_preds = final_cat_model.predict(X_valid_preprocessed)\n",
    "xgb_preds = final_xg_model.predict(X_valid)"
   ]
  },
  {
   "cell_type": "code",
   "execution_count": 58,
   "id": "7b069385-bcff-4cb2-8fe5-40bf916ab6ac",
   "metadata": {},
   "outputs": [
    {
     "name": "stdout",
     "output_type": "stream",
     "text": [
      "Stacked Ensemble Model - Validation RMSE: 0.38607\n"
     ]
    },
    {
     "name": "stderr",
     "output_type": "stream",
     "text": [
      "/opt/anaconda3/lib/python3.12/site-packages/sklearn/metrics/_regression.py:483: FutureWarning: 'squared' is deprecated in version 1.4 and will be removed in 1.6. To calculate the root mean squared error, use the function'root_mean_squared_error'.\n",
      "  warnings.warn(\n"
     ]
    }
   ],
   "source": [
    "# Combine predictions as features for stacking\n",
    "stacked_features_full = np.vstack((cat_preds, xgb_preds)).T\n",
    "\n",
    "# Split stacked features for meta-model training and validation\n",
    "X_train_meta, X_valid_meta, y_train_meta, y_valid_meta = train_test_split(\n",
    "    stacked_features_full, y_valid, test_size=0.2, random_state=42\n",
    ")\n",
    "\n",
    "# Train the Ridge regression model as the meta-model\n",
    "meta_model = Ridge(alpha=1.0)\n",
    "meta_model.fit(X_train_meta, y_train_meta)\n",
    "\n",
    "# Predict on the validation meta-set\n",
    "meta_preds = meta_model.predict(X_valid_meta)\n",
    "\n",
    "# Calculate and print the RMSE for the stacked model\n",
    "meta_rmse = mean_squared_error(y_valid_meta, meta_preds, squared=False)\n",
    "print(f\"Stacked Ensemble Model - Validation RMSE: {meta_rmse:.5f}\")"
   ]
  },
  {
   "cell_type": "code",
   "execution_count": null,
   "id": "07a61787-17d9-4729-a659-e9cb9c6ec65f",
   "metadata": {},
   "outputs": [],
   "source": []
  },
  {
   "cell_type": "markdown",
   "id": "aa17f81b-8d4f-4a94-a45d-463efbe51319",
   "metadata": {},
   "source": [
    "#### Hyperparameters Tuning"
   ]
  },
  {
   "cell_type": "code",
   "execution_count": 61,
   "id": "b1ea39c0-4ce1-4728-afbc-7a1deed64aba",
   "metadata": {},
   "outputs": [
    {
     "name": "stderr",
     "output_type": "stream",
     "text": [
      "/opt/anaconda3/lib/python3.12/site-packages/keras/src/layers/core/dense.py:87: UserWarning: Do not pass an `input_shape`/`input_dim` argument to a layer. When using Sequential models, prefer using an `Input(shape)` object as the first layer in the model instead.\n",
      "  super().__init__(activity_regularizer=activity_regularizer, **kwargs)\n"
     ]
    },
    {
     "name": "stdout",
     "output_type": "stream",
     "text": [
      "Epoch 1/50\n",
      "2016/2016 - 6s - 3ms/step - loss: 0.2151 - val_loss: 0.1491\n",
      "Epoch 2/50\n",
      "2016/2016 - 5s - 2ms/step - loss: 0.1505 - val_loss: 0.1498\n",
      "Epoch 3/50\n",
      "2016/2016 - 5s - 2ms/step - loss: 0.1501 - val_loss: 0.1495\n",
      "Epoch 4/50\n",
      "2016/2016 - 4s - 2ms/step - loss: 0.1496 - val_loss: 0.1497\n",
      "Epoch 5/50\n",
      "2016/2016 - 5s - 2ms/step - loss: 0.1490 - val_loss: 0.1504\n",
      "Epoch 6/50\n",
      "2016/2016 - 4s - 2ms/step - loss: 0.1491 - val_loss: 0.1503\n",
      "Epoch 7/50\n",
      "2016/2016 - 5s - 2ms/step - loss: 0.1490 - val_loss: 0.1516\n",
      "Epoch 8/50\n",
      "2016/2016 - 4s - 2ms/step - loss: 0.1485 - val_loss: 0.1526\n",
      "Epoch 9/50\n",
      "2016/2016 - 4s - 2ms/step - loss: 0.1488 - val_loss: 0.1497\n",
      "Epoch 10/50\n",
      "2016/2016 - 4s - 2ms/step - loss: 0.1488 - val_loss: 0.1510\n",
      "Epoch 11/50\n",
      "2016/2016 - 3s - 2ms/step - loss: 0.1485 - val_loss: 0.1524\n",
      "Epoch 12/50\n",
      "2016/2016 - 4s - 2ms/step - loss: 0.1484 - val_loss: 0.1567\n",
      "Epoch 13/50\n",
      "2016/2016 - 5s - 3ms/step - loss: 0.1483 - val_loss: 0.1494\n",
      "Epoch 14/50\n",
      "2016/2016 - 4s - 2ms/step - loss: 0.1483 - val_loss: 0.1592\n",
      "Epoch 15/50\n",
      "2016/2016 - 5s - 2ms/step - loss: 0.1483 - val_loss: 0.1536\n",
      "Epoch 16/50\n",
      "2016/2016 - 4s - 2ms/step - loss: 0.1480 - val_loss: 0.1488\n",
      "Epoch 17/50\n",
      "2016/2016 - 4s - 2ms/step - loss: 0.1482 - val_loss: 0.1485\n",
      "Epoch 18/50\n",
      "2016/2016 - 4s - 2ms/step - loss: 0.1482 - val_loss: 0.1490\n",
      "Epoch 19/50\n",
      "2016/2016 - 3s - 2ms/step - loss: 0.1481 - val_loss: 0.1485\n",
      "Epoch 20/50\n",
      "2016/2016 - 4s - 2ms/step - loss: 0.1483 - val_loss: 0.1590\n",
      "Epoch 21/50\n",
      "2016/2016 - 4s - 2ms/step - loss: 0.1486 - val_loss: 0.1491\n",
      "Epoch 22/50\n",
      "2016/2016 - 4s - 2ms/step - loss: 0.1482 - val_loss: 0.1487\n",
      "Epoch 23/50\n",
      "2016/2016 - 4s - 2ms/step - loss: 0.1481 - val_loss: 0.1579\n",
      "Epoch 24/50\n",
      "2016/2016 - 3s - 2ms/step - loss: 0.1482 - val_loss: 0.1492\n",
      "Epoch 25/50\n",
      "2016/2016 - 5s - 2ms/step - loss: 0.1477 - val_loss: 0.1505\n",
      "Epoch 26/50\n",
      "2016/2016 - 4s - 2ms/step - loss: 0.1482 - val_loss: 0.1506\n",
      "Epoch 27/50\n",
      "2016/2016 - 4s - 2ms/step - loss: 0.1479 - val_loss: 0.1490\n",
      "Epoch 28/50\n",
      "2016/2016 - 5s - 2ms/step - loss: 0.1475 - val_loss: 0.1497\n",
      "Epoch 29/50\n",
      "2016/2016 - 4s - 2ms/step - loss: 0.1484 - val_loss: 0.1489\n",
      "Epoch 30/50\n",
      "2016/2016 - 4s - 2ms/step - loss: 0.1478 - val_loss: 0.1494\n",
      "Epoch 31/50\n",
      "2016/2016 - 4s - 2ms/step - loss: 0.1476 - val_loss: 0.1493\n",
      "Epoch 32/50\n",
      "2016/2016 - 4s - 2ms/step - loss: 0.1481 - val_loss: 0.1487\n",
      "Epoch 33/50\n",
      "2016/2016 - 4s - 2ms/step - loss: 0.1480 - val_loss: 0.1491\n",
      "Epoch 34/50\n",
      "2016/2016 - 4s - 2ms/step - loss: 0.1480 - val_loss: 0.1492\n",
      "Epoch 35/50\n",
      "2016/2016 - 4s - 2ms/step - loss: 0.1479 - val_loss: 0.1528\n",
      "Epoch 36/50\n",
      "2016/2016 - 4s - 2ms/step - loss: 0.1474 - val_loss: 0.1530\n",
      "Epoch 37/50\n",
      "2016/2016 - 4s - 2ms/step - loss: 0.1478 - val_loss: 0.1491\n",
      "Epoch 38/50\n",
      "2016/2016 - 4s - 2ms/step - loss: 0.1477 - val_loss: 0.1551\n",
      "Epoch 39/50\n",
      "2016/2016 - 4s - 2ms/step - loss: 0.1477 - val_loss: 0.1486\n",
      "Epoch 40/50\n",
      "2016/2016 - 5s - 2ms/step - loss: 0.1477 - val_loss: 0.1499\n",
      "Epoch 41/50\n",
      "2016/2016 - 4s - 2ms/step - loss: 0.1475 - val_loss: 0.1498\n",
      "Epoch 42/50\n",
      "2016/2016 - 4s - 2ms/step - loss: 0.1475 - val_loss: 0.1488\n",
      "Epoch 43/50\n",
      "2016/2016 - 4s - 2ms/step - loss: 0.1476 - val_loss: 0.1487\n",
      "Epoch 44/50\n",
      "2016/2016 - 4s - 2ms/step - loss: 0.1476 - val_loss: 0.1512\n",
      "Epoch 45/50\n",
      "2016/2016 - 4s - 2ms/step - loss: 0.1475 - val_loss: 0.1525\n",
      "Epoch 46/50\n",
      "2016/2016 - 4s - 2ms/step - loss: 0.1476 - val_loss: 0.1603\n",
      "Epoch 47/50\n",
      "2016/2016 - 3s - 2ms/step - loss: 0.1475 - val_loss: 0.1485\n",
      "Epoch 48/50\n",
      "2016/2016 - 4s - 2ms/step - loss: 0.1479 - val_loss: 0.1520\n",
      "Epoch 49/50\n",
      "2016/2016 - 4s - 2ms/step - loss: 0.1477 - val_loss: 0.1493\n",
      "Epoch 50/50\n",
      "2016/2016 - 4s - 2ms/step - loss: 0.1475 - val_loss: 0.1501\n",
      "\u001b[1m252/252\u001b[0m \u001b[32m━━━━━━━━━━━━━━━━━━━━\u001b[0m\u001b[37m\u001b[0m \u001b[1m0s\u001b[0m 1ms/step\n",
      "Neural Network Meta-Model - Validation RMSE: 0.38738\n"
     ]
    },
    {
     "name": "stderr",
     "output_type": "stream",
     "text": [
      "/opt/anaconda3/lib/python3.12/site-packages/sklearn/metrics/_regression.py:483: FutureWarning: 'squared' is deprecated in version 1.4 and will be removed in 1.6. To calculate the root mean squared error, use the function'root_mean_squared_error'.\n",
      "  warnings.warn(\n"
     ]
    }
   ],
   "source": [
    "from tensorflow.keras.models import Sequential\n",
    "from tensorflow.keras.layers import Dense\n",
    "\n",
    "# Build a simple neural network\n",
    "meta_nn = Sequential([\n",
    "    Dense(64, activation=\"relu\", input_shape=(stacked_features_full.shape[1],)),\n",
    "    Dense(32, activation=\"relu\"),\n",
    "    Dense(1)\n",
    "])\n",
    "meta_nn.compile(optimizer=\"adam\", loss=\"mse\")\n",
    "\n",
    "# Train the neural network\n",
    "meta_nn.fit(X_train_meta, y_train_meta, epochs=50, batch_size=16, validation_data=(X_valid_meta, y_valid_meta), verbose=2)\n",
    "\n",
    "# Predict and calculate RMSE\n",
    "meta_nn_preds = meta_nn.predict(X_valid_meta).flatten()\n",
    "meta_nn_rmse = mean_squared_error(y_valid_meta, meta_nn_preds, squared=False)\n",
    "print(f\"Neural Network Meta-Model - Validation RMSE: {meta_nn_rmse:.5f}\")\n"
   ]
  },
  {
   "cell_type": "code",
   "execution_count": 177,
   "id": "2093f5e0-2546-40ba-bd37-d8656498915f",
   "metadata": {},
   "outputs": [],
   "source": [
    "test = pd.read_parquet(\"~/Desktop/python X/Project/final_test.parquet\")"
   ]
  },
  {
   "cell_type": "code",
   "execution_count": 179,
   "id": "cebc2d7e-e241-485d-84ce-757f3ba0e1d5",
   "metadata": {},
   "outputs": [
    {
     "data": {
      "text/html": [
       "<div>\n",
       "<style scoped>\n",
       "    .dataframe tbody tr th:only-of-type {\n",
       "        vertical-align: middle;\n",
       "    }\n",
       "\n",
       "    .dataframe tbody tr th {\n",
       "        vertical-align: top;\n",
       "    }\n",
       "\n",
       "    .dataframe thead th {\n",
       "        text-align: right;\n",
       "    }\n",
       "</style>\n",
       "<table border=\"1\" class=\"dataframe\">\n",
       "  <thead>\n",
       "    <tr style=\"text-align: right;\">\n",
       "      <th></th>\n",
       "      <th>counter_id</th>\n",
       "      <th>counter_name</th>\n",
       "      <th>site_id</th>\n",
       "      <th>site_name</th>\n",
       "      <th>date</th>\n",
       "      <th>counter_installation_date</th>\n",
       "      <th>coordinates</th>\n",
       "      <th>counter_technical_id</th>\n",
       "      <th>latitude</th>\n",
       "      <th>longitude</th>\n",
       "    </tr>\n",
       "  </thead>\n",
       "  <tbody>\n",
       "    <tr>\n",
       "      <th>0</th>\n",
       "      <td>100007049-102007049</td>\n",
       "      <td>28 boulevard Diderot E-O</td>\n",
       "      <td>100007049</td>\n",
       "      <td>28 boulevard Diderot</td>\n",
       "      <td>2021-09-10 01:00:00</td>\n",
       "      <td>2013-01-18</td>\n",
       "      <td>48.846028,2.375429</td>\n",
       "      <td>Y2H15027244</td>\n",
       "      <td>48.846028</td>\n",
       "      <td>2.375429</td>\n",
       "    </tr>\n",
       "    <tr>\n",
       "      <th>1</th>\n",
       "      <td>100007049-102007049</td>\n",
       "      <td>28 boulevard Diderot E-O</td>\n",
       "      <td>100007049</td>\n",
       "      <td>28 boulevard Diderot</td>\n",
       "      <td>2021-09-10 13:00:00</td>\n",
       "      <td>2013-01-18</td>\n",
       "      <td>48.846028,2.375429</td>\n",
       "      <td>Y2H15027244</td>\n",
       "      <td>48.846028</td>\n",
       "      <td>2.375429</td>\n",
       "    </tr>\n",
       "    <tr>\n",
       "      <th>2</th>\n",
       "      <td>100007049-102007049</td>\n",
       "      <td>28 boulevard Diderot E-O</td>\n",
       "      <td>100007049</td>\n",
       "      <td>28 boulevard Diderot</td>\n",
       "      <td>2021-09-10 17:00:00</td>\n",
       "      <td>2013-01-18</td>\n",
       "      <td>48.846028,2.375429</td>\n",
       "      <td>Y2H15027244</td>\n",
       "      <td>48.846028</td>\n",
       "      <td>2.375429</td>\n",
       "    </tr>\n",
       "    <tr>\n",
       "      <th>3</th>\n",
       "      <td>100007049-102007049</td>\n",
       "      <td>28 boulevard Diderot E-O</td>\n",
       "      <td>100007049</td>\n",
       "      <td>28 boulevard Diderot</td>\n",
       "      <td>2021-09-10 19:00:00</td>\n",
       "      <td>2013-01-18</td>\n",
       "      <td>48.846028,2.375429</td>\n",
       "      <td>Y2H15027244</td>\n",
       "      <td>48.846028</td>\n",
       "      <td>2.375429</td>\n",
       "    </tr>\n",
       "    <tr>\n",
       "      <th>4</th>\n",
       "      <td>100007049-102007049</td>\n",
       "      <td>28 boulevard Diderot E-O</td>\n",
       "      <td>100007049</td>\n",
       "      <td>28 boulevard Diderot</td>\n",
       "      <td>2021-09-10 22:00:00</td>\n",
       "      <td>2013-01-18</td>\n",
       "      <td>48.846028,2.375429</td>\n",
       "      <td>Y2H15027244</td>\n",
       "      <td>48.846028</td>\n",
       "      <td>2.375429</td>\n",
       "    </tr>\n",
       "  </tbody>\n",
       "</table>\n",
       "</div>"
      ],
      "text/plain": [
       "            counter_id              counter_name    site_id  \\\n",
       "0  100007049-102007049  28 boulevard Diderot E-O  100007049   \n",
       "1  100007049-102007049  28 boulevard Diderot E-O  100007049   \n",
       "2  100007049-102007049  28 boulevard Diderot E-O  100007049   \n",
       "3  100007049-102007049  28 boulevard Diderot E-O  100007049   \n",
       "4  100007049-102007049  28 boulevard Diderot E-O  100007049   \n",
       "\n",
       "              site_name                date counter_installation_date  \\\n",
       "0  28 boulevard Diderot 2021-09-10 01:00:00                2013-01-18   \n",
       "1  28 boulevard Diderot 2021-09-10 13:00:00                2013-01-18   \n",
       "2  28 boulevard Diderot 2021-09-10 17:00:00                2013-01-18   \n",
       "3  28 boulevard Diderot 2021-09-10 19:00:00                2013-01-18   \n",
       "4  28 boulevard Diderot 2021-09-10 22:00:00                2013-01-18   \n",
       "\n",
       "          coordinates counter_technical_id   latitude  longitude  \n",
       "0  48.846028,2.375429          Y2H15027244  48.846028   2.375429  \n",
       "1  48.846028,2.375429          Y2H15027244  48.846028   2.375429  \n",
       "2  48.846028,2.375429          Y2H15027244  48.846028   2.375429  \n",
       "3  48.846028,2.375429          Y2H15027244  48.846028   2.375429  \n",
       "4  48.846028,2.375429          Y2H15027244  48.846028   2.375429  "
      ]
     },
     "execution_count": 179,
     "metadata": {},
     "output_type": "execute_result"
    }
   ],
   "source": [
    "test.head()"
   ]
  },
  {
   "cell_type": "code",
   "execution_count": 181,
   "id": "ca4f0528-8190-49d4-8c50-1140da24f77f",
   "metadata": {},
   "outputs": [],
   "source": [
    "test_data = test.drop(columns=[\"counter_id\", \"counter_technical_id\", \"counter_installation_date\", \"coordinates\"])"
   ]
  },
  {
   "cell_type": "code",
   "execution_count": 183,
   "id": "fd6fde13-1d8e-419c-80c5-1bfea4cb50e6",
   "metadata": {},
   "outputs": [
    {
     "data": {
      "text/html": [
       "<div>\n",
       "<style scoped>\n",
       "    .dataframe tbody tr th:only-of-type {\n",
       "        vertical-align: middle;\n",
       "    }\n",
       "\n",
       "    .dataframe tbody tr th {\n",
       "        vertical-align: top;\n",
       "    }\n",
       "\n",
       "    .dataframe thead th {\n",
       "        text-align: right;\n",
       "    }\n",
       "</style>\n",
       "<table border=\"1\" class=\"dataframe\">\n",
       "  <thead>\n",
       "    <tr style=\"text-align: right;\">\n",
       "      <th></th>\n",
       "      <th>counter_name</th>\n",
       "      <th>site_id</th>\n",
       "      <th>site_name</th>\n",
       "      <th>date</th>\n",
       "      <th>latitude</th>\n",
       "      <th>longitude</th>\n",
       "    </tr>\n",
       "  </thead>\n",
       "  <tbody>\n",
       "    <tr>\n",
       "      <th>0</th>\n",
       "      <td>28 boulevard Diderot E-O</td>\n",
       "      <td>100007049</td>\n",
       "      <td>28 boulevard Diderot</td>\n",
       "      <td>2021-09-10 01:00:00</td>\n",
       "      <td>48.846028</td>\n",
       "      <td>2.375429</td>\n",
       "    </tr>\n",
       "    <tr>\n",
       "      <th>1</th>\n",
       "      <td>28 boulevard Diderot E-O</td>\n",
       "      <td>100007049</td>\n",
       "      <td>28 boulevard Diderot</td>\n",
       "      <td>2021-09-10 13:00:00</td>\n",
       "      <td>48.846028</td>\n",
       "      <td>2.375429</td>\n",
       "    </tr>\n",
       "    <tr>\n",
       "      <th>2</th>\n",
       "      <td>28 boulevard Diderot E-O</td>\n",
       "      <td>100007049</td>\n",
       "      <td>28 boulevard Diderot</td>\n",
       "      <td>2021-09-10 17:00:00</td>\n",
       "      <td>48.846028</td>\n",
       "      <td>2.375429</td>\n",
       "    </tr>\n",
       "    <tr>\n",
       "      <th>3</th>\n",
       "      <td>28 boulevard Diderot E-O</td>\n",
       "      <td>100007049</td>\n",
       "      <td>28 boulevard Diderot</td>\n",
       "      <td>2021-09-10 19:00:00</td>\n",
       "      <td>48.846028</td>\n",
       "      <td>2.375429</td>\n",
       "    </tr>\n",
       "    <tr>\n",
       "      <th>4</th>\n",
       "      <td>28 boulevard Diderot E-O</td>\n",
       "      <td>100007049</td>\n",
       "      <td>28 boulevard Diderot</td>\n",
       "      <td>2021-09-10 22:00:00</td>\n",
       "      <td>48.846028</td>\n",
       "      <td>2.375429</td>\n",
       "    </tr>\n",
       "    <tr>\n",
       "      <th>...</th>\n",
       "      <td>...</td>\n",
       "      <td>...</td>\n",
       "      <td>...</td>\n",
       "      <td>...</td>\n",
       "      <td>...</td>\n",
       "      <td>...</td>\n",
       "    </tr>\n",
       "    <tr>\n",
       "      <th>51435</th>\n",
       "      <td>254 rue de Vaugirard SO-NE</td>\n",
       "      <td>300014702</td>\n",
       "      <td>254 rue de Vaugirard</td>\n",
       "      <td>2021-10-18 11:00:00</td>\n",
       "      <td>48.839770</td>\n",
       "      <td>2.301980</td>\n",
       "    </tr>\n",
       "    <tr>\n",
       "      <th>51436</th>\n",
       "      <td>254 rue de Vaugirard SO-NE</td>\n",
       "      <td>300014702</td>\n",
       "      <td>254 rue de Vaugirard</td>\n",
       "      <td>2021-10-18 15:00:00</td>\n",
       "      <td>48.839770</td>\n",
       "      <td>2.301980</td>\n",
       "    </tr>\n",
       "    <tr>\n",
       "      <th>51437</th>\n",
       "      <td>254 rue de Vaugirard SO-NE</td>\n",
       "      <td>300014702</td>\n",
       "      <td>254 rue de Vaugirard</td>\n",
       "      <td>2021-10-18 17:00:00</td>\n",
       "      <td>48.839770</td>\n",
       "      <td>2.301980</td>\n",
       "    </tr>\n",
       "    <tr>\n",
       "      <th>51438</th>\n",
       "      <td>254 rue de Vaugirard SO-NE</td>\n",
       "      <td>300014702</td>\n",
       "      <td>254 rue de Vaugirard</td>\n",
       "      <td>2021-10-18 18:00:00</td>\n",
       "      <td>48.839770</td>\n",
       "      <td>2.301980</td>\n",
       "    </tr>\n",
       "    <tr>\n",
       "      <th>51439</th>\n",
       "      <td>254 rue de Vaugirard SO-NE</td>\n",
       "      <td>300014702</td>\n",
       "      <td>254 rue de Vaugirard</td>\n",
       "      <td>2021-10-18 19:00:00</td>\n",
       "      <td>48.839770</td>\n",
       "      <td>2.301980</td>\n",
       "    </tr>\n",
       "  </tbody>\n",
       "</table>\n",
       "<p>51440 rows × 6 columns</p>\n",
       "</div>"
      ],
      "text/plain": [
       "                     counter_name    site_id             site_name  \\\n",
       "0        28 boulevard Diderot E-O  100007049  28 boulevard Diderot   \n",
       "1        28 boulevard Diderot E-O  100007049  28 boulevard Diderot   \n",
       "2        28 boulevard Diderot E-O  100007049  28 boulevard Diderot   \n",
       "3        28 boulevard Diderot E-O  100007049  28 boulevard Diderot   \n",
       "4        28 boulevard Diderot E-O  100007049  28 boulevard Diderot   \n",
       "...                           ...        ...                   ...   \n",
       "51435  254 rue de Vaugirard SO-NE  300014702  254 rue de Vaugirard   \n",
       "51436  254 rue de Vaugirard SO-NE  300014702  254 rue de Vaugirard   \n",
       "51437  254 rue de Vaugirard SO-NE  300014702  254 rue de Vaugirard   \n",
       "51438  254 rue de Vaugirard SO-NE  300014702  254 rue de Vaugirard   \n",
       "51439  254 rue de Vaugirard SO-NE  300014702  254 rue de Vaugirard   \n",
       "\n",
       "                     date   latitude  longitude  \n",
       "0     2021-09-10 01:00:00  48.846028   2.375429  \n",
       "1     2021-09-10 13:00:00  48.846028   2.375429  \n",
       "2     2021-09-10 17:00:00  48.846028   2.375429  \n",
       "3     2021-09-10 19:00:00  48.846028   2.375429  \n",
       "4     2021-09-10 22:00:00  48.846028   2.375429  \n",
       "...                   ...        ...        ...  \n",
       "51435 2021-10-18 11:00:00  48.839770   2.301980  \n",
       "51436 2021-10-18 15:00:00  48.839770   2.301980  \n",
       "51437 2021-10-18 17:00:00  48.839770   2.301980  \n",
       "51438 2021-10-18 18:00:00  48.839770   2.301980  \n",
       "51439 2021-10-18 19:00:00  48.839770   2.301980  \n",
       "\n",
       "[51440 rows x 6 columns]"
      ]
     },
     "execution_count": 183,
     "metadata": {},
     "output_type": "execute_result"
    }
   ],
   "source": [
    "test_data"
   ]
  },
  {
   "cell_type": "code",
   "execution_count": 185,
   "id": "5a7e2236-808b-4d71-b146-9b8e0a15156c",
   "metadata": {},
   "outputs": [],
   "source": [
    "X_test_preprocessed = preprocess_datetime(test_data)"
   ]
  },
  {
   "cell_type": "code",
   "execution_count": 187,
   "id": "6196a376-311f-4fc2-be32-5535c68556d6",
   "metadata": {},
   "outputs": [],
   "source": [
    "# Prepare CatBoost Pool for prediction\n",
    "cat_features_indices = [X_test_preprocessed.columns.get_loc(col) for col in categorical_columns]  # Indices of categorical columns\n",
    "test_pool = Pool(data=X_test_preprocessed, cat_features=cat_features_indices)"
   ]
  },
  {
   "cell_type": "code",
   "execution_count": 189,
   "id": "010766d5-7484-4a41-8243-66e1d6c6b111",
   "metadata": {},
   "outputs": [
    {
     "data": {
      "text/plain": [
       "['counter_name', 'site_name']"
      ]
     },
     "execution_count": 189,
     "metadata": {},
     "output_type": "execute_result"
    }
   ],
   "source": [
    "categorical_columns"
   ]
  },
  {
   "cell_type": "code",
   "execution_count": 191,
   "id": "fcf71c11-3824-4885-8757-c1513b0087a1",
   "metadata": {},
   "outputs": [],
   "source": [
    "from catboost import Pool\n",
    "\n",
    "# Prepare CatBoost Pool for prediction\n",
    "cat_features_indices = [X_test_preprocessed.columns.get_loc(col) for col in categorical_columns]  # Indices of categorical columns\n",
    "test_pool = Pool(data=X_test_preprocessed, cat_features=cat_features_indices)\n",
    "\n",
    "\n",
    "# Predict using CatBoost\n",
    "cat_preds_test = final_cat_model.predict(test_pool)\n",
    "xgb_preds = final_xg_model.predict(test_data)"
   ]
  },
  {
   "cell_type": "code",
   "execution_count": 197,
   "id": "360167bb-5233-4a74-b5be-b0d56239fed2",
   "metadata": {},
   "outputs": [
    {
     "data": {
      "text/plain": [
       "array([0.28678793, 1.3673028 , 1.80601248, ..., 5.4842191 , 4.93728622,\n",
       "       3.76805409])"
      ]
     },
     "execution_count": 197,
     "metadata": {},
     "output_type": "execute_result"
    }
   ],
   "source": [
    "cat_preds_test"
   ]
  },
  {
   "cell_type": "code",
   "execution_count": 199,
   "id": "8a07559c-b5d1-4be1-a57a-50514c509f9f",
   "metadata": {},
   "outputs": [
    {
     "data": {
      "text/plain": [
       "array([0.31949982, 1.331555  , 1.8816799 , ..., 5.118124  , 4.5802374 ,\n",
       "       3.2562618 ], dtype=float32)"
      ]
     },
     "execution_count": 199,
     "metadata": {},
     "output_type": "execute_result"
    }
   ],
   "source": [
    "xgb_preds"
   ]
  },
  {
   "cell_type": "code",
   "execution_count": 195,
   "id": "f9e336f5-2ab6-4db5-8953-2493dbd5e577",
   "metadata": {},
   "outputs": [
    {
     "ename": "ValueError",
     "evalue": "all the input array dimensions except for the concatenation axis must match exactly, but along dimension 1, the array at index 0 has size 40320 and the array at index 1 has size 51440",
     "output_type": "error",
     "traceback": [
      "\u001b[0;31m---------------------------------------------------------------------------\u001b[0m",
      "\u001b[0;31mValueError\u001b[0m                                Traceback (most recent call last)",
      "Cell \u001b[0;32mIn[195], line 2\u001b[0m\n\u001b[1;32m      1\u001b[0m \u001b[38;5;66;03m# Combine predictions as features for stacking\u001b[39;00m\n\u001b[0;32m----> 2\u001b[0m stacked_features_full \u001b[38;5;241m=\u001b[39m np\u001b[38;5;241m.\u001b[39mvstack((cat_preds, xgb_preds))\u001b[38;5;241m.\u001b[39mT\n\u001b[1;32m      4\u001b[0m \u001b[38;5;66;03m# Split stacked features for meta-model training and validation\u001b[39;00m\n\u001b[1;32m      5\u001b[0m X_train_meta, X_valid_meta, y_train_meta, y_valid_meta \u001b[38;5;241m=\u001b[39m train_test_split(\n\u001b[1;32m      6\u001b[0m     stacked_features_full, y_valid, test_size\u001b[38;5;241m=\u001b[39m\u001b[38;5;241m0.2\u001b[39m, random_state\u001b[38;5;241m=\u001b[39m\u001b[38;5;241m42\u001b[39m\n\u001b[1;32m      7\u001b[0m )\n",
      "File \u001b[0;32m/opt/anaconda3/lib/python3.12/site-packages/numpy/core/shape_base.py:289\u001b[0m, in \u001b[0;36mvstack\u001b[0;34m(tup, dtype, casting)\u001b[0m\n\u001b[1;32m    287\u001b[0m \u001b[38;5;28;01mif\u001b[39;00m \u001b[38;5;129;01mnot\u001b[39;00m \u001b[38;5;28misinstance\u001b[39m(arrs, \u001b[38;5;28mlist\u001b[39m):\n\u001b[1;32m    288\u001b[0m     arrs \u001b[38;5;241m=\u001b[39m [arrs]\n\u001b[0;32m--> 289\u001b[0m \u001b[38;5;28;01mreturn\u001b[39;00m _nx\u001b[38;5;241m.\u001b[39mconcatenate(arrs, \u001b[38;5;241m0\u001b[39m, dtype\u001b[38;5;241m=\u001b[39mdtype, casting\u001b[38;5;241m=\u001b[39mcasting)\n",
      "\u001b[0;31mValueError\u001b[0m: all the input array dimensions except for the concatenation axis must match exactly, but along dimension 1, the array at index 0 has size 40320 and the array at index 1 has size 51440"
     ]
    }
   ],
   "source": [
    "# Combine predictions as features for stacking\n",
    "stacked_features_full = np.vstack((cat_preds, xgb_preds)).T\n",
    "\n",
    "# Split stacked features for meta-model training and validation\n",
    "X_train_meta, X_valid_meta, y_train_meta, y_valid_meta = train_test_split(\n",
    "    stacked_features_full, y_valid, test_size=0.2, random_state=42\n",
    ")\n",
    "\n",
    "# Train the Ridge regression model as the meta-model\n",
    "meta_model = Ridge(alpha=1.0)\n",
    "meta_model.fit(X_train_meta, y_train_meta)\n",
    "\n",
    "# Predict on the validation meta-set\n",
    "meta_preds = meta_model.predict(X_valid_meta)"
   ]
  },
  {
   "cell_type": "code",
   "execution_count": 209,
   "id": "27de6f86-fa53-40c0-bfd2-ed1fb2649f98",
   "metadata": {},
   "outputs": [
    {
     "name": "stdout",
     "output_type": "stream",
     "text": [
      "Final predictions added to the test dataset:\n"
     ]
    },
    {
     "data": {
      "text/plain": [
       "51440"
      ]
     },
     "execution_count": 209,
     "metadata": {},
     "output_type": "execute_result"
    }
   ],
   "source": [
    "# Ensure the test data preprocessing aligns for both models\n",
    "assert len(X_test_preprocessed) == len(X_test), \"Mismatch in preprocessed test data sizes!\"\n",
    "\n",
    "# Generate predictions from CatBoost and XGBoost\n",
    "cat_preds_test = final_cat_model.predict(Pool(data=X_test_preprocessed, cat_features=cat_features_indices))\n",
    "xgb_preds_test = final_xg_model.predict(X_test)\n",
    "\n",
    "# Ensure predictions have the same length\n",
    "assert len(cat_preds_test) == len(xgb_preds_test), \"Mismatch in predictions sizes!\"\n",
    "\n",
    "# Combine predictions as features for the stacked model\n",
    "stacked_features_test = np.vstack((cat_preds_test, xgb_preds_test)).T\n",
    "\n",
    "# Generate final predictions using the already trained meta-model\n",
    "final_predictions = meta_model.predict(stacked_features_test)\n",
    "\n"
   ]
  },
  {
   "cell_type": "code",
   "execution_count": 211,
   "id": "8ca76f1d-7fd5-4eb5-8aaa-f6145ef7c433",
   "metadata": {},
   "outputs": [],
   "source": [
    "import pandas as pd\n",
    "\n",
    "# Assuming `final_predictions` is your array of predicted values for the test set\n",
    "# And `test_data` is your DataFrame containing the test data\n",
    "\n",
    "# Create the submission DataFrame\n",
    "submission = pd.DataFrame({\n",
    "    \"Id\": test_data.index,  # Use the index of the test set as the Id\n",
    "    \"log_bike_count\": final_predictions  # Your final predictions\n",
    "})\n",
    "\n",
    "# Save the DataFrame to a CSV file\n",
    "submission.to_csv(\"submission.csv\", index=False)\n"
   ]
  },
  {
   "cell_type": "code",
   "execution_count": 213,
   "id": "8631e874-661f-47ab-9cfb-11db8a4510d4",
   "metadata": {},
   "outputs": [
    {
     "data": {
      "text/html": [
       "<div>\n",
       "<style scoped>\n",
       "    .dataframe tbody tr th:only-of-type {\n",
       "        vertical-align: middle;\n",
       "    }\n",
       "\n",
       "    .dataframe tbody tr th {\n",
       "        vertical-align: top;\n",
       "    }\n",
       "\n",
       "    .dataframe thead th {\n",
       "        text-align: right;\n",
       "    }\n",
       "</style>\n",
       "<table border=\"1\" class=\"dataframe\">\n",
       "  <thead>\n",
       "    <tr style=\"text-align: right;\">\n",
       "      <th></th>\n",
       "      <th>Id</th>\n",
       "      <th>log_bike_count</th>\n",
       "    </tr>\n",
       "  </thead>\n",
       "  <tbody>\n",
       "    <tr>\n",
       "      <th>0</th>\n",
       "      <td>0</td>\n",
       "      <td>0.388203</td>\n",
       "    </tr>\n",
       "    <tr>\n",
       "      <th>1</th>\n",
       "      <td>1</td>\n",
       "      <td>1.435960</td>\n",
       "    </tr>\n",
       "    <tr>\n",
       "      <th>2</th>\n",
       "      <td>2</td>\n",
       "      <td>1.979671</td>\n",
       "    </tr>\n",
       "    <tr>\n",
       "      <th>3</th>\n",
       "      <td>3</td>\n",
       "      <td>1.056361</td>\n",
       "    </tr>\n",
       "    <tr>\n",
       "      <th>4</th>\n",
       "      <td>4</td>\n",
       "      <td>0.831968</td>\n",
       "    </tr>\n",
       "    <tr>\n",
       "      <th>...</th>\n",
       "      <td>...</td>\n",
       "      <td>...</td>\n",
       "    </tr>\n",
       "    <tr>\n",
       "      <th>51435</th>\n",
       "      <td>51435</td>\n",
       "      <td>4.896534</td>\n",
       "    </tr>\n",
       "    <tr>\n",
       "      <th>51436</th>\n",
       "      <td>51436</td>\n",
       "      <td>5.114622</td>\n",
       "    </tr>\n",
       "    <tr>\n",
       "      <th>51437</th>\n",
       "      <td>51437</td>\n",
       "      <td>5.369001</td>\n",
       "    </tr>\n",
       "    <tr>\n",
       "      <th>51438</th>\n",
       "      <td>51438</td>\n",
       "      <td>4.816889</td>\n",
       "    </tr>\n",
       "    <tr>\n",
       "      <th>51439</th>\n",
       "      <td>51439</td>\n",
       "      <td>3.488651</td>\n",
       "    </tr>\n",
       "  </tbody>\n",
       "</table>\n",
       "<p>51440 rows × 2 columns</p>\n",
       "</div>"
      ],
      "text/plain": [
       "          Id  log_bike_count\n",
       "0          0        0.388203\n",
       "1          1        1.435960\n",
       "2          2        1.979671\n",
       "3          3        1.056361\n",
       "4          4        0.831968\n",
       "...      ...             ...\n",
       "51435  51435        4.896534\n",
       "51436  51436        5.114622\n",
       "51437  51437        5.369001\n",
       "51438  51438        4.816889\n",
       "51439  51439        3.488651\n",
       "\n",
       "[51440 rows x 2 columns]"
      ]
     },
     "execution_count": 213,
     "metadata": {},
     "output_type": "execute_result"
    }
   ],
   "source": [
    "submission"
   ]
  },
  {
   "cell_type": "code",
   "execution_count": null,
   "id": "f92f6f2c-4c9a-4faa-8435-ae721c373dec",
   "metadata": {},
   "outputs": [],
   "source": []
  }
 ],
 "metadata": {
  "kernelspec": {
   "display_name": "Python 3 (ipykernel)",
   "language": "python",
   "name": "python3"
  },
  "language_info": {
   "codemirror_mode": {
    "name": "ipython",
    "version": 3
   },
   "file_extension": ".py",
   "mimetype": "text/x-python",
   "name": "python",
   "nbconvert_exporter": "python",
   "pygments_lexer": "ipython3",
   "version": "3.12.2"
  }
 },
 "nbformat": 4,
 "nbformat_minor": 5
}
